{
 "cells": [
  {
   "cell_type": "markdown",
   "metadata": {},
   "source": [
    "# Previsão de Links\n",
    "\n",
    "#### 1 - Carregando Bibliotecas e Redes"
   ]
  },
  {
   "cell_type": "code",
   "execution_count": 1,
   "metadata": {},
   "outputs": [
    {
     "name": "stderr",
     "output_type": "stream",
     "text": [
      "/home/vitorgr/.local/lib/python3.6/site-packages/networkx/drawing/nx_pylab.py:611: MatplotlibDeprecationWarning: isinstance(..., numbers.Number)\n",
      "  if cb.is_numlike(alpha):\n"
     ]
    },
    {
     "data": {
      "image/png": "[encoded data removed]",
      "text/plain": [
       "<Figure size 432x288 with 1 Axes>"
      ]
     },
     "metadata": {},
     "output_type": "display_data"
    }
   ],
   "source": [
    "import networkx as nx\n",
    "import collections\n",
    "import matplotlib.pyplot as plt\n",
    "import numpy as np\n",
    "%matplotlib inline\n",
    "\n",
    "G = nx.Graph()\n",
    "G.add_edges_from([('A','B'),('A','D'),('B','D'),\n",
    "                  ('D','C'),('A','E'),('B','C'),\n",
    "                  ('E','F'),('C','F'),('E','G')])\n",
    "G.add_edges_from([('G','F'),('G','I'),('G','H')])\n",
    "\n",
    "\n",
    "colors = []\n",
    "for v in G:\n",
    "    colors.append(G.degree(v));\n",
    "\n",
    "nx.draw_kamada_kawai(G, node_color=colors, with_labels=True, cmap=plt.cm.Oranges, node_size=500, font_weight='bold')\n",
    "plt.show()"
   ]
  },
  {
   "cell_type": "markdown",
   "metadata": {},
   "source": [
    "#### 2 - Vizinhos comuns"
   ]
  },
  {
   "cell_type": "code",
   "execution_count": 2,
   "metadata": {},
   "outputs": [
    {
     "data": {
      "text/plain": [
       "['B', 'D']"
      ]
     },
     "execution_count": 2,
     "metadata": {},
     "output_type": "execute_result"
    }
   ],
   "source": [
    "CN = nx.common_neighbors(G, 'A', 'C')\n",
    "\n",
    "list(CN)"
   ]
  },
  {
   "cell_type": "markdown",
   "metadata": {},
   "source": [
    "#### 3 - Coeficiente de Jaccard"
   ]
  },
  {
   "cell_type": "code",
   "execution_count": 3,
   "metadata": {},
   "outputs": [
    {
     "data": {
      "text/plain": [
       "[('I', 'A', 0.0),\n",
       " ('I', 'F', 0.3333333333333333),\n",
       " ('I', 'B', 0.0),\n",
       " ('I', 'E', 0.3333333333333333),\n",
       " ('I', 'C', 0.0),\n",
       " ('I', 'D', 0.0),\n",
       " ('I', 'H', 1.0),\n",
       " ('A', 'F', 0.2),\n",
       " ('A', 'H', 0.0),\n",
       " ('A', 'G', 0.16666666666666666),\n",
       " ('A', 'C', 0.5),\n",
       " ('F', 'D', 0.2),\n",
       " ('F', 'H', 0.3333333333333333),\n",
       " ('F', 'B', 0.2),\n",
       " ('B', 'H', 0.0),\n",
       " ('B', 'G', 0.0),\n",
       " ('B', 'E', 0.2),\n",
       " ('E', 'D', 0.2),\n",
       " ('E', 'H', 0.3333333333333333),\n",
       " ('E', 'C', 0.2),\n",
       " ('C', 'H', 0.0),\n",
       " ('C', 'G', 0.16666666666666666),\n",
       " ('G', 'D', 0.0),\n",
       " ('D', 'H', 0.0)]"
      ]
     },
     "execution_count": 3,
     "metadata": {},
     "output_type": "execute_result"
    }
   ],
   "source": [
    "jacc = nx.jaccard_coefficient(G)\n",
    "list(jacc)"
   ]
  },
  {
   "cell_type": "markdown",
   "metadata": {},
   "source": [
    "#### 4 - Índice de Alocação de Recursos"
   ]
  },
  {
   "cell_type": "code",
   "execution_count": 4,
   "metadata": {},
   "outputs": [
    {
     "data": {
      "text/plain": [
       "[('I', 'A', 0),\n",
       " ('I', 'F', 0.25),\n",
       " ('I', 'B', 0),\n",
       " ('I', 'E', 0.25),\n",
       " ('I', 'C', 0),\n",
       " ('I', 'D', 0),\n",
       " ('I', 'H', 0.25),\n",
       " ('A', 'F', 0.3333333333333333),\n",
       " ('A', 'H', 0),\n",
       " ('A', 'G', 0.3333333333333333),\n",
       " ('A', 'C', 0.6666666666666666),\n",
       " ('F', 'D', 0.3333333333333333),\n",
       " ('F', 'H', 0.25),\n",
       " ('F', 'B', 0.3333333333333333),\n",
       " ('B', 'H', 0),\n",
       " ('B', 'G', 0),\n",
       " ('B', 'E', 0.3333333333333333),\n",
       " ('E', 'D', 0.3333333333333333),\n",
       " ('E', 'H', 0.25),\n",
       " ('E', 'C', 0.3333333333333333),\n",
       " ('C', 'H', 0),\n",
       " ('C', 'G', 0.3333333333333333),\n",
       " ('G', 'D', 0),\n",
       " ('D', 'H', 0)]"
      ]
     },
     "execution_count": 4,
     "metadata": {},
     "output_type": "execute_result"
    }
   ],
   "source": [
    "list(nx.resource_allocation_index(G))"
   ]
  },
  {
   "cell_type": "markdown",
   "metadata": {},
   "source": [
    "#### 5 - Índice de Adamic-Adar"
   ]
  },
  {
   "cell_type": "code",
   "execution_count": 5,
   "metadata": {},
   "outputs": [
    {
     "data": {
      "text/plain": [
       "[('I', 'A', 0),\n",
       " ('I', 'F', 0.7213475204444817),\n",
       " ('I', 'B', 0),\n",
       " ('I', 'E', 0.7213475204444817),\n",
       " ('I', 'C', 0),\n",
       " ('I', 'D', 0),\n",
       " ('I', 'H', 0.7213475204444817),\n",
       " ('A', 'F', 0.9102392266268373),\n",
       " ('A', 'H', 0),\n",
       " ('A', 'G', 0.9102392266268373),\n",
       " ('A', 'C', 1.8204784532536746),\n",
       " ('F', 'D', 0.9102392266268373),\n",
       " ('F', 'H', 0.7213475204444817),\n",
       " ('F', 'B', 0.9102392266268373),\n",
       " ('B', 'H', 0),\n",
       " ('B', 'G', 0),\n",
       " ('B', 'E', 0.9102392266268373),\n",
       " ('E', 'D', 0.9102392266268373),\n",
       " ('E', 'H', 0.7213475204444817),\n",
       " ('E', 'C', 0.9102392266268373),\n",
       " ('C', 'H', 0),\n",
       " ('C', 'G', 0.9102392266268373),\n",
       " ('G', 'D', 0),\n",
       " ('D', 'H', 0)]"
      ]
     },
     "execution_count": 5,
     "metadata": {},
     "output_type": "execute_result"
    }
   ],
   "source": [
    "list(nx.adamic_adar_index(G))"
   ]
  },
  {
   "cell_type": "markdown",
   "metadata": {},
   "source": [
    "#### 6 - Escore Preferential Attachment"
   ]
  },
  {
   "cell_type": "code",
   "execution_count": 6,
   "metadata": {},
   "outputs": [
    {
     "data": {
      "text/plain": [
       "[('I', 'A', 3),\n",
       " ('I', 'F', 3),\n",
       " ('I', 'B', 3),\n",
       " ('I', 'E', 3),\n",
       " ('I', 'C', 3),\n",
       " ('I', 'D', 3),\n",
       " ('I', 'H', 1),\n",
       " ('A', 'F', 9),\n",
       " ('A', 'H', 3),\n",
       " ('A', 'G', 12),\n",
       " ('A', 'C', 9),\n",
       " ('F', 'D', 9),\n",
       " ('F', 'H', 3),\n",
       " ('F', 'B', 9),\n",
       " ('B', 'H', 3),\n",
       " ('B', 'G', 12),\n",
       " ('B', 'E', 9),\n",
       " ('E', 'D', 9),\n",
       " ('E', 'H', 3),\n",
       " ('E', 'C', 9),\n",
       " ('C', 'H', 3),\n",
       " ('C', 'G', 12),\n",
       " ('G', 'D', 12),\n",
       " ('D', 'H', 3)]"
      ]
     },
     "execution_count": 6,
     "metadata": {},
     "output_type": "execute_result"
    }
   ],
   "source": [
    "list(nx.preferential_attachment(G))"
   ]
  },
  {
   "cell_type": "markdown",
   "metadata": {},
   "source": [
    "#### 7 - Criando comunidades"
   ]
  },
  {
   "cell_type": "code",
   "execution_count": 7,
   "metadata": {},
   "outputs": [],
   "source": [
    "G.node['A']['community'] = 0\n",
    "G.node['B']['community'] = 0\n",
    "G.node['C']['community'] = 0\n",
    "G.node['D']['community'] = 0\n",
    "G.node['E']['community'] = 1\n",
    "G.node['F']['community'] = 1\n",
    "G.node['G']['community'] = 1\n",
    "G.node['H']['community'] = 1\n",
    "G.node['I']['community'] = 1"
   ]
  },
  {
   "cell_type": "markdown",
   "metadata": {},
   "source": [
    "#### 8 - Soundarajan-Hopcroft"
   ]
  },
  {
   "cell_type": "code",
   "execution_count": 8,
   "metadata": {},
   "outputs": [
    {
     "data": {
      "text/plain": [
       "[('I', 'A', 0),\n",
       " ('I', 'F', 2),\n",
       " ('I', 'B', 0),\n",
       " ('I', 'E', 2),\n",
       " ('I', 'C', 0),\n",
       " ('I', 'D', 0),\n",
       " ('I', 'H', 2),\n",
       " ('A', 'F', 1),\n",
       " ('A', 'H', 0),\n",
       " ('A', 'G', 1),\n",
       " ('A', 'C', 4),\n",
       " ('F', 'D', 1),\n",
       " ('F', 'H', 2),\n",
       " ('F', 'B', 1),\n",
       " ('B', 'H', 0),\n",
       " ('B', 'G', 0),\n",
       " ('B', 'E', 1),\n",
       " ('E', 'D', 1),\n",
       " ('E', 'H', 2),\n",
       " ('E', 'C', 1),\n",
       " ('C', 'H', 0),\n",
       " ('C', 'G', 1),\n",
       " ('G', 'D', 0),\n",
       " ('D', 'H', 0)]"
      ]
     },
     "execution_count": 8,
     "metadata": {},
     "output_type": "execute_result"
    }
   ],
   "source": [
    "list(nx.cn_soundarajan_hopcroft(G))"
   ]
  },
  {
   "cell_type": "markdown",
   "metadata": {},
   "source": [
    "#### 9 - Alocação de Recursos com Soundarajan-Hopcroft"
   ]
  },
  {
   "cell_type": "code",
   "execution_count": 10,
   "metadata": {},
   "outputs": [
    {
     "data": {
      "text/plain": [
       "[('I', 'A', 0),\n",
       " ('I', 'F', 0.25),\n",
       " ('I', 'B', 0),\n",
       " ('I', 'E', 0.25),\n",
       " ('I', 'C', 0),\n",
       " ('I', 'D', 0),\n",
       " ('I', 'H', 0.25),\n",
       " ('A', 'F', 0),\n",
       " ('A', 'H', 0),\n",
       " ('A', 'G', 0),\n",
       " ('A', 'C', 0.6666666666666666),\n",
       " ('F', 'D', 0),\n",
       " ('F', 'H', 0.25),\n",
       " ('F', 'B', 0),\n",
       " ('B', 'H', 0),\n",
       " ('B', 'G', 0),\n",
       " ('B', 'E', 0),\n",
       " ('E', 'D', 0),\n",
       " ('E', 'H', 0.25),\n",
       " ('E', 'C', 0),\n",
       " ('C', 'H', 0),\n",
       " ('C', 'G', 0),\n",
       " ('G', 'D', 0),\n",
       " ('D', 'H', 0)]"
      ]
     },
     "execution_count": 10,
     "metadata": {},
     "output_type": "execute_result"
    }
   ],
   "source": [
    "list(nx.ra_index_soundarajan_hopcroft(G))"
   ]
  }
 ],
 "metadata": {
  "kernelspec": {
   "display_name": "Python 3",
   "language": "python",
   "name": "python3"
  },
  "language_info": {
   "codemirror_mode": {
    "name": "ipython",
    "version": 3
   },
   "file_extension": ".py",
   "mimetype": "text/x-python",
   "name": "python",
   "nbconvert_exporter": "python",
   "pygments_lexer": "ipython3",
   "version": "3.6.8"
  }
 },
 "nbformat": 4,
 "nbformat_minor": 2
}
