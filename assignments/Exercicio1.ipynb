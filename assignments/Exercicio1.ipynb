{
 "cells": [
  {
   "cell_type": "markdown",
   "metadata": {},
   "source": [
    "Pare esse exercício serão disponibilizados três arquivos: ***amazonas.csv*** que contém dados históricos de desflorestamento nos municipios do Amazonas no ano de 2014, ***estados.csv*** que contém uma lista com o nome, uf e codigo dos estados brasileiros e ***municipios.csv*** que contém o nome de todos os municípios brasileiros e suas respectivas localizações no globo (longitude e latitude).\n",
    "\n",
    "O objetivo do exercício é gerar um relatório sobre o desflorestamento nos municípios do Amazonas com a visualização dos dados sobre o mapa do Brasil.\n",
    "Para isso será necessário relacionar ambas as três tabelas de forma que seja associado a posição geográfica (longitude e latitude) dos municípios aos dados de desflorestamento.\n"
   ]
  },
  {
   "cell_type": "code",
   "execution_count": 1,
   "metadata": {},
   "outputs": [],
   "source": [
    "import matplotlib.pyplot as plt\n",
    "import pandas as pd\n",
    "import numpy as np\n",
    "#biblioteca para plotar no mapa\n",
    "import mplleaflet"
   ]
  },
  {
   "cell_type": "code",
   "execution_count": 2,
   "metadata": {},
   "outputs": [],
   "source": [
    "# Aditional packages\n",
    "import os"
   ]
  },
  {
   "cell_type": "code",
   "execution_count": 4,
   "metadata": {},
   "outputs": [],
   "source": [
    "# Important directories and other constants\n",
    "DATA_DIR = 'data'\n",
    "AMAZONAS = 'amazonas.csv'\n",
    "STATES = 'estados.csv'\n",
    "CITIES = 'municipios.csv'"
   ]
  },
  {
   "cell_type": "code",
   "execution_count": 6,
   "metadata": {},
   "outputs": [],
   "source": [
    "#começaremos importando todas as tabelas\n",
    "df_amazonas = pd.read_csv(os.path.join(DATA_DIR, AMAZONAS))\n",
    "df_states = pd.read_csv(os.path.join(DATA_DIR, STATES))\n",
    "df_cities = pd.read_csv(os.path.join(DATA_DIR, CITIES))"
   ]
  },
  {
   "cell_type": "markdown",
   "metadata": {},
   "source": [
    "Vamos da uma olhada no jeito de cada tabela"
   ]
  },
  {
   "cell_type": "code",
   "execution_count": 7,
   "metadata": {},
   "outputs": [
    {
     "data": {
      "text/html": [
       "<div>\n",
       "<style scoped>\n",
       "    .dataframe tbody tr th:only-of-type {\n",
       "        vertical-align: middle;\n",
       "    }\n",
       "\n",
       "    .dataframe tbody tr th {\n",
       "        vertical-align: top;\n",
       "    }\n",
       "\n",
       "    .dataframe thead th {\n",
       "        text-align: right;\n",
       "    }\n",
       "</style>\n",
       "<table border=\"1\" class=\"dataframe\">\n",
       "  <thead>\n",
       "    <tr style=\"text-align: right;\">\n",
       "      <th></th>\n",
       "      <th>Municípios</th>\n",
       "      <th>Agricultura Anual</th>\n",
       "      <th>Área não Observada</th>\n",
       "      <th>Área Urbana</th>\n",
       "      <th>Desflorestamento 2014</th>\n",
       "      <th>Floresta</th>\n",
       "      <th>Hidrografia</th>\n",
       "      <th>Mineração</th>\n",
       "      <th>Mosaico de Ocupações</th>\n",
       "      <th>Não Floresta</th>\n",
       "      <th>Outros</th>\n",
       "      <th>Pasto com Solo Exposto</th>\n",
       "      <th>Pasto Limpo</th>\n",
       "      <th>Pasto Sujo</th>\n",
       "      <th>Reflorestamento</th>\n",
       "      <th>Regeneração com Pasto</th>\n",
       "      <th>Vegetação Secundária</th>\n",
       "      <th>Total Geral</th>\n",
       "    </tr>\n",
       "  </thead>\n",
       "  <tbody>\n",
       "    <tr>\n",
       "      <td>0</td>\n",
       "      <td>Alvaraes</td>\n",
       "      <td>NaN</td>\n",
       "      <td>0.07</td>\n",
       "      <td>1.90</td>\n",
       "      <td>2.75</td>\n",
       "      <td>5,415.56</td>\n",
       "      <td>133.87</td>\n",
       "      <td>NaN</td>\n",
       "      <td>101.08</td>\n",
       "      <td>43.26</td>\n",
       "      <td>5.36</td>\n",
       "      <td>NaN</td>\n",
       "      <td>2.92</td>\n",
       "      <td>1.02</td>\n",
       "      <td>NaN</td>\n",
       "      <td>5.13</td>\n",
       "      <td>198.55</td>\n",
       "      <td>5,911.46</td>\n",
       "    </tr>\n",
       "    <tr>\n",
       "      <td>1</td>\n",
       "      <td>Amatura</td>\n",
       "      <td>NaN</td>\n",
       "      <td>NaN</td>\n",
       "      <td>2.05</td>\n",
       "      <td>0.36</td>\n",
       "      <td>4,220.22</td>\n",
       "      <td>209.41</td>\n",
       "      <td>NaN</td>\n",
       "      <td>15.87</td>\n",
       "      <td>216.55</td>\n",
       "      <td>3.76</td>\n",
       "      <td>NaN</td>\n",
       "      <td>4.03</td>\n",
       "      <td>NaN</td>\n",
       "      <td>NaN</td>\n",
       "      <td>11.44</td>\n",
       "      <td>71.74</td>\n",
       "      <td>4,755.42</td>\n",
       "    </tr>\n",
       "    <tr>\n",
       "      <td>2</td>\n",
       "      <td>Anama</td>\n",
       "      <td>NaN</td>\n",
       "      <td>0.86</td>\n",
       "      <td>0.89</td>\n",
       "      <td>0.44</td>\n",
       "      <td>2,001.85</td>\n",
       "      <td>229.30</td>\n",
       "      <td>NaN</td>\n",
       "      <td>6.90</td>\n",
       "      <td>34.81</td>\n",
       "      <td>13.11</td>\n",
       "      <td>NaN</td>\n",
       "      <td>2.02</td>\n",
       "      <td>0.87</td>\n",
       "      <td>NaN</td>\n",
       "      <td>NaN</td>\n",
       "      <td>160.61</td>\n",
       "      <td>2,451.66</td>\n",
       "    </tr>\n",
       "    <tr>\n",
       "      <td>3</td>\n",
       "      <td>Anori</td>\n",
       "      <td>NaN</td>\n",
       "      <td>0.15</td>\n",
       "      <td>2.77</td>\n",
       "      <td>0.59</td>\n",
       "      <td>4,646.53</td>\n",
       "      <td>436.07</td>\n",
       "      <td>NaN</td>\n",
       "      <td>17.12</td>\n",
       "      <td>636.01</td>\n",
       "      <td>4.70</td>\n",
       "      <td>NaN</td>\n",
       "      <td>8.05</td>\n",
       "      <td>0.52</td>\n",
       "      <td>NaN</td>\n",
       "      <td>NaN</td>\n",
       "      <td>41.98</td>\n",
       "      <td>5,794.49</td>\n",
       "    </tr>\n",
       "    <tr>\n",
       "      <td>4</td>\n",
       "      <td>Apui</td>\n",
       "      <td>NaN</td>\n",
       "      <td>6.71</td>\n",
       "      <td>5.91</td>\n",
       "      <td>80.19</td>\n",
       "      <td>51,396.43</td>\n",
       "      <td>213.50</td>\n",
       "      <td>NaN</td>\n",
       "      <td>8.76</td>\n",
       "      <td>622.87</td>\n",
       "      <td>7.18</td>\n",
       "      <td>NaN</td>\n",
       "      <td>812.61</td>\n",
       "      <td>329.85</td>\n",
       "      <td>NaN</td>\n",
       "      <td>208.13</td>\n",
       "      <td>546.18</td>\n",
       "      <td>54,238.32</td>\n",
       "    </tr>\n",
       "  </tbody>\n",
       "</table>\n",
       "</div>"
      ],
      "text/plain": [
       "  Municípios  Agricultura Anual  Área não Observada  Área Urbana  \\\n",
       "0   Alvaraes                NaN                0.07         1.90   \n",
       "1    Amatura                NaN                 NaN         2.05   \n",
       "2      Anama                NaN                0.86         0.89   \n",
       "3      Anori                NaN                0.15         2.77   \n",
       "4       Apui                NaN                6.71         5.91   \n",
       "\n",
       "   Desflorestamento 2014     Floresta Hidrografia  Mineração  \\\n",
       "0                   2.75    5,415.56      133.87         NaN   \n",
       "1                   0.36    4,220.22      209.41         NaN   \n",
       "2                   0.44    2,001.85      229.30         NaN   \n",
       "3                   0.59    4,646.53      436.07         NaN   \n",
       "4                  80.19   51,396.43      213.50         NaN   \n",
       "\n",
       "   Mosaico de Ocupações Não Floresta  Outros  Pasto com Solo Exposto  \\\n",
       "0                101.08       43.26     5.36                     NaN   \n",
       "1                 15.87      216.55     3.76                     NaN   \n",
       "2                  6.90       34.81    13.11                     NaN   \n",
       "3                 17.12      636.01     4.70                     NaN   \n",
       "4                  8.76      622.87     7.18                     NaN   \n",
       "\n",
       "  Pasto Limpo  Pasto Sujo  Reflorestamento  Regeneração com Pasto  \\\n",
       "0       2.92         1.02              NaN                   5.13   \n",
       "1       4.03          NaN              NaN                  11.44   \n",
       "2       2.02         0.87              NaN                    NaN   \n",
       "3       8.05         0.52              NaN                    NaN   \n",
       "4     812.61       329.85              NaN                 208.13   \n",
       "\n",
       "   Vegetação Secundária  Total Geral  \n",
       "0                198.55    5,911.46   \n",
       "1                 71.74    4,755.42   \n",
       "2                160.61    2,451.66   \n",
       "3                 41.98    5,794.49   \n",
       "4                546.18   54,238.32   "
      ]
     },
     "execution_count": 7,
     "metadata": {},
     "output_type": "execute_result"
    }
   ],
   "source": [
    "df_amazonas.head()"
   ]
  },
  {
   "cell_type": "code",
   "execution_count": 8,
   "metadata": {},
   "outputs": [
    {
     "data": {
      "text/html": [
       "<div>\n",
       "<style scoped>\n",
       "    .dataframe tbody tr th:only-of-type {\n",
       "        vertical-align: middle;\n",
       "    }\n",
       "\n",
       "    .dataframe tbody tr th {\n",
       "        vertical-align: top;\n",
       "    }\n",
       "\n",
       "    .dataframe thead th {\n",
       "        text-align: right;\n",
       "    }\n",
       "</style>\n",
       "<table border=\"1\" class=\"dataframe\">\n",
       "  <thead>\n",
       "    <tr style=\"text-align: right;\">\n",
       "      <th></th>\n",
       "      <th>codigo_uf</th>\n",
       "      <th>uf</th>\n",
       "      <th>nome</th>\n",
       "    </tr>\n",
       "  </thead>\n",
       "  <tbody>\n",
       "    <tr>\n",
       "      <td>0</td>\n",
       "      <td>11</td>\n",
       "      <td>RO</td>\n",
       "      <td>Rondônia</td>\n",
       "    </tr>\n",
       "    <tr>\n",
       "      <td>1</td>\n",
       "      <td>12</td>\n",
       "      <td>AC</td>\n",
       "      <td>Acre</td>\n",
       "    </tr>\n",
       "    <tr>\n",
       "      <td>2</td>\n",
       "      <td>13</td>\n",
       "      <td>AM</td>\n",
       "      <td>Amazonas</td>\n",
       "    </tr>\n",
       "    <tr>\n",
       "      <td>3</td>\n",
       "      <td>14</td>\n",
       "      <td>RR</td>\n",
       "      <td>Roraima</td>\n",
       "    </tr>\n",
       "    <tr>\n",
       "      <td>4</td>\n",
       "      <td>15</td>\n",
       "      <td>PA</td>\n",
       "      <td>Pará</td>\n",
       "    </tr>\n",
       "  </tbody>\n",
       "</table>\n",
       "</div>"
      ],
      "text/plain": [
       "   codigo_uf  uf      nome\n",
       "0         11  RO  Rondônia\n",
       "1         12  AC      Acre\n",
       "2         13  AM  Amazonas\n",
       "3         14  RR   Roraima\n",
       "4         15  PA      Pará"
      ]
     },
     "execution_count": 8,
     "metadata": {},
     "output_type": "execute_result"
    }
   ],
   "source": [
    "df_states.head()"
   ]
  },
  {
   "cell_type": "code",
   "execution_count": 9,
   "metadata": {
    "scrolled": true
   },
   "outputs": [
    {
     "data": {
      "text/html": [
       "<div>\n",
       "<style scoped>\n",
       "    .dataframe tbody tr th:only-of-type {\n",
       "        vertical-align: middle;\n",
       "    }\n",
       "\n",
       "    .dataframe tbody tr th {\n",
       "        vertical-align: top;\n",
       "    }\n",
       "\n",
       "    .dataframe thead th {\n",
       "        text-align: right;\n",
       "    }\n",
       "</style>\n",
       "<table border=\"1\" class=\"dataframe\">\n",
       "  <thead>\n",
       "    <tr style=\"text-align: right;\">\n",
       "      <th></th>\n",
       "      <th>codigo_ibge</th>\n",
       "      <th>nome</th>\n",
       "      <th>latitude</th>\n",
       "      <th>longitude</th>\n",
       "      <th>capital</th>\n",
       "      <th>codigo_uf</th>\n",
       "    </tr>\n",
       "  </thead>\n",
       "  <tbody>\n",
       "    <tr>\n",
       "      <td>0</td>\n",
       "      <td>5200050</td>\n",
       "      <td>Abadia de Goiás</td>\n",
       "      <td>-16.75730</td>\n",
       "      <td>-49.4412</td>\n",
       "      <td>0</td>\n",
       "      <td>52</td>\n",
       "    </tr>\n",
       "    <tr>\n",
       "      <td>1</td>\n",
       "      <td>3100104</td>\n",
       "      <td>Abadia dos Dourados</td>\n",
       "      <td>-18.48310</td>\n",
       "      <td>-47.3916</td>\n",
       "      <td>0</td>\n",
       "      <td>31</td>\n",
       "    </tr>\n",
       "    <tr>\n",
       "      <td>2</td>\n",
       "      <td>5200100</td>\n",
       "      <td>Abadiânia</td>\n",
       "      <td>-16.19700</td>\n",
       "      <td>-48.7057</td>\n",
       "      <td>0</td>\n",
       "      <td>52</td>\n",
       "    </tr>\n",
       "    <tr>\n",
       "      <td>3</td>\n",
       "      <td>3100203</td>\n",
       "      <td>Abaeté</td>\n",
       "      <td>-19.15510</td>\n",
       "      <td>-45.4444</td>\n",
       "      <td>0</td>\n",
       "      <td>31</td>\n",
       "    </tr>\n",
       "    <tr>\n",
       "      <td>4</td>\n",
       "      <td>1500107</td>\n",
       "      <td>Abaetetuba</td>\n",
       "      <td>-1.72183</td>\n",
       "      <td>-48.8788</td>\n",
       "      <td>0</td>\n",
       "      <td>15</td>\n",
       "    </tr>\n",
       "  </tbody>\n",
       "</table>\n",
       "</div>"
      ],
      "text/plain": [
       "   codigo_ibge                 nome  latitude  longitude  capital  codigo_uf\n",
       "0      5200050      Abadia de Goiás -16.75730   -49.4412        0         52\n",
       "1      3100104  Abadia dos Dourados -18.48310   -47.3916        0         31\n",
       "2      5200100            Abadiânia -16.19700   -48.7057        0         52\n",
       "3      3100203               Abaeté -19.15510   -45.4444        0         31\n",
       "4      1500107           Abaetetuba  -1.72183   -48.8788        0         15"
      ]
     },
     "execution_count": 9,
     "metadata": {},
     "output_type": "execute_result"
    }
   ],
   "source": [
    "df_cities.head()"
   ]
  },
  {
   "cell_type": "markdown",
   "metadata": {},
   "source": [
    "Apos carregar os dados devemos associar as tabelas de estados e municípios e selecionar apenas os municípios do Amazonas"
   ]
  },
  {
   "cell_type": "markdown",
   "metadata": {},
   "source": [
    "Note que nos dados provenientes da tabela ***municipios.csv*** o nome dos municípios estão todos acentuados, no entanto na tabela amazonas os nomes estão sem acento. Logo é necessario remover os acentos dos nomes da tabela ***municipios.csv***."
   ]
  },
  {
   "cell_type": "code",
   "execution_count": 12,
   "metadata": {},
   "outputs": [
    {
     "name": "stdout",
     "output_type": "stream",
     "text": [
      "Ola!\n"
     ]
    }
   ],
   "source": [
    "from unicodedata import normalize\n",
    "# use esta funçao para remover acentos\n",
    "def remove_acentos_python3(txt):\n",
    "    return str(normalize('NFKD', txt).encode('ASCII', 'ignore'), 'utf-8')\n",
    "def remove_acentos_python2(txt):\n",
    "    return normalize('NFKD', txt.decode('utf-8')).encode('ASCII', 'ignore')\n",
    "\n",
    "# ex\n",
    "print(remove_acentos_python3(\"Olá!\")) #change to python3, the one I'm using"
   ]
  },
  {
   "cell_type": "code",
   "execution_count": 13,
   "metadata": {},
   "outputs": [],
   "source": [
    "df_cities['nome'] = df_cities['nome'].apply(remove_acentos_python3)"
   ]
  },
  {
   "cell_type": "code",
   "execution_count": 14,
   "metadata": {},
   "outputs": [
    {
     "data": {
      "text/html": [
       "<div>\n",
       "<style scoped>\n",
       "    .dataframe tbody tr th:only-of-type {\n",
       "        vertical-align: middle;\n",
       "    }\n",
       "\n",
       "    .dataframe tbody tr th {\n",
       "        vertical-align: top;\n",
       "    }\n",
       "\n",
       "    .dataframe thead th {\n",
       "        text-align: right;\n",
       "    }\n",
       "</style>\n",
       "<table border=\"1\" class=\"dataframe\">\n",
       "  <thead>\n",
       "    <tr style=\"text-align: right;\">\n",
       "      <th></th>\n",
       "      <th>codigo_ibge</th>\n",
       "      <th>nome</th>\n",
       "      <th>latitude</th>\n",
       "      <th>longitude</th>\n",
       "      <th>capital</th>\n",
       "      <th>codigo_uf</th>\n",
       "    </tr>\n",
       "  </thead>\n",
       "  <tbody>\n",
       "    <tr>\n",
       "      <td>0</td>\n",
       "      <td>5200050</td>\n",
       "      <td>Abadia de Goias</td>\n",
       "      <td>-16.75730</td>\n",
       "      <td>-49.4412</td>\n",
       "      <td>0</td>\n",
       "      <td>52</td>\n",
       "    </tr>\n",
       "    <tr>\n",
       "      <td>1</td>\n",
       "      <td>3100104</td>\n",
       "      <td>Abadia dos Dourados</td>\n",
       "      <td>-18.48310</td>\n",
       "      <td>-47.3916</td>\n",
       "      <td>0</td>\n",
       "      <td>31</td>\n",
       "    </tr>\n",
       "    <tr>\n",
       "      <td>2</td>\n",
       "      <td>5200100</td>\n",
       "      <td>Abadiania</td>\n",
       "      <td>-16.19700</td>\n",
       "      <td>-48.7057</td>\n",
       "      <td>0</td>\n",
       "      <td>52</td>\n",
       "    </tr>\n",
       "    <tr>\n",
       "      <td>3</td>\n",
       "      <td>3100203</td>\n",
       "      <td>Abaete</td>\n",
       "      <td>-19.15510</td>\n",
       "      <td>-45.4444</td>\n",
       "      <td>0</td>\n",
       "      <td>31</td>\n",
       "    </tr>\n",
       "    <tr>\n",
       "      <td>4</td>\n",
       "      <td>1500107</td>\n",
       "      <td>Abaetetuba</td>\n",
       "      <td>-1.72183</td>\n",
       "      <td>-48.8788</td>\n",
       "      <td>0</td>\n",
       "      <td>15</td>\n",
       "    </tr>\n",
       "  </tbody>\n",
       "</table>\n",
       "</div>"
      ],
      "text/plain": [
       "   codigo_ibge                 nome  latitude  longitude  capital  codigo_uf\n",
       "0      5200050      Abadia de Goias -16.75730   -49.4412        0         52\n",
       "1      3100104  Abadia dos Dourados -18.48310   -47.3916        0         31\n",
       "2      5200100            Abadiania -16.19700   -48.7057        0         52\n",
       "3      3100203               Abaete -19.15510   -45.4444        0         31\n",
       "4      1500107           Abaetetuba  -1.72183   -48.8788        0         15"
      ]
     },
     "execution_count": 14,
     "metadata": {},
     "output_type": "execute_result"
    }
   ],
   "source": [
    "df_cities.head()"
   ]
  },
  {
   "cell_type": "markdown",
   "metadata": {},
   "source": [
    "Em seguida relacione as tabelas municipios e amazonas."
   ]
  },
  {
   "cell_type": "code",
   "execution_count": 20,
   "metadata": {},
   "outputs": [
    {
     "data": {
      "text/html": [
       "<div>\n",
       "<style scoped>\n",
       "    .dataframe tbody tr th:only-of-type {\n",
       "        vertical-align: middle;\n",
       "    }\n",
       "\n",
       "    .dataframe tbody tr th {\n",
       "        vertical-align: top;\n",
       "    }\n",
       "\n",
       "    .dataframe thead th {\n",
       "        text-align: right;\n",
       "    }\n",
       "</style>\n",
       "<table border=\"1\" class=\"dataframe\">\n",
       "  <thead>\n",
       "    <tr style=\"text-align: right;\">\n",
       "      <th></th>\n",
       "      <th>codigo_uf</th>\n",
       "      <th>uf</th>\n",
       "      <th>estado</th>\n",
       "    </tr>\n",
       "  </thead>\n",
       "  <tbody>\n",
       "    <tr>\n",
       "      <td>0</td>\n",
       "      <td>11</td>\n",
       "      <td>RO</td>\n",
       "      <td>Rondônia</td>\n",
       "    </tr>\n",
       "    <tr>\n",
       "      <td>1</td>\n",
       "      <td>12</td>\n",
       "      <td>AC</td>\n",
       "      <td>Acre</td>\n",
       "    </tr>\n",
       "    <tr>\n",
       "      <td>2</td>\n",
       "      <td>13</td>\n",
       "      <td>AM</td>\n",
       "      <td>Amazonas</td>\n",
       "    </tr>\n",
       "    <tr>\n",
       "      <td>3</td>\n",
       "      <td>14</td>\n",
       "      <td>RR</td>\n",
       "      <td>Roraima</td>\n",
       "    </tr>\n",
       "    <tr>\n",
       "      <td>4</td>\n",
       "      <td>15</td>\n",
       "      <td>PA</td>\n",
       "      <td>Pará</td>\n",
       "    </tr>\n",
       "  </tbody>\n",
       "</table>\n",
       "</div>"
      ],
      "text/plain": [
       "   codigo_uf  uf    estado\n",
       "0         11  RO  Rondônia\n",
       "1         12  AC      Acre\n",
       "2         13  AM  Amazonas\n",
       "3         14  RR   Roraima\n",
       "4         15  PA      Pará"
      ]
     },
     "execution_count": 20,
     "metadata": {},
     "output_type": "execute_result"
    }
   ],
   "source": [
    "# rename column \"name\", because we already have a \"name\" column in df_cities\n",
    "df_states.rename(columns={'nome': 'estado'}, inplace=True)\n",
    "df_states.head()"
   ]
  },
  {
   "cell_type": "code",
   "execution_count": 21,
   "metadata": {},
   "outputs": [],
   "source": [
    "df_brazil = df_cities.merge(df_states, how='left', on=['codigo_uf'])"
   ]
  },
  {
   "cell_type": "code",
   "execution_count": 22,
   "metadata": {},
   "outputs": [
    {
     "name": "stdout",
     "output_type": "stream",
     "text": [
      "Dimensões antigas: (5570, 6) Dimensões novas: (5570, 8)\n"
     ]
    },
    {
     "data": {
      "text/html": [
       "<div>\n",
       "<style scoped>\n",
       "    .dataframe tbody tr th:only-of-type {\n",
       "        vertical-align: middle;\n",
       "    }\n",
       "\n",
       "    .dataframe tbody tr th {\n",
       "        vertical-align: top;\n",
       "    }\n",
       "\n",
       "    .dataframe thead th {\n",
       "        text-align: right;\n",
       "    }\n",
       "</style>\n",
       "<table border=\"1\" class=\"dataframe\">\n",
       "  <thead>\n",
       "    <tr style=\"text-align: right;\">\n",
       "      <th></th>\n",
       "      <th>codigo_ibge</th>\n",
       "      <th>nome</th>\n",
       "      <th>latitude</th>\n",
       "      <th>longitude</th>\n",
       "      <th>capital</th>\n",
       "      <th>codigo_uf</th>\n",
       "      <th>uf</th>\n",
       "      <th>estado</th>\n",
       "    </tr>\n",
       "  </thead>\n",
       "  <tbody>\n",
       "    <tr>\n",
       "      <td>0</td>\n",
       "      <td>5200050</td>\n",
       "      <td>Abadia de Goias</td>\n",
       "      <td>-16.75730</td>\n",
       "      <td>-49.4412</td>\n",
       "      <td>0</td>\n",
       "      <td>52</td>\n",
       "      <td>GO</td>\n",
       "      <td>Goiás</td>\n",
       "    </tr>\n",
       "    <tr>\n",
       "      <td>1</td>\n",
       "      <td>3100104</td>\n",
       "      <td>Abadia dos Dourados</td>\n",
       "      <td>-18.48310</td>\n",
       "      <td>-47.3916</td>\n",
       "      <td>0</td>\n",
       "      <td>31</td>\n",
       "      <td>MG</td>\n",
       "      <td>Minas Gerais</td>\n",
       "    </tr>\n",
       "    <tr>\n",
       "      <td>2</td>\n",
       "      <td>5200100</td>\n",
       "      <td>Abadiania</td>\n",
       "      <td>-16.19700</td>\n",
       "      <td>-48.7057</td>\n",
       "      <td>0</td>\n",
       "      <td>52</td>\n",
       "      <td>GO</td>\n",
       "      <td>Goiás</td>\n",
       "    </tr>\n",
       "    <tr>\n",
       "      <td>3</td>\n",
       "      <td>3100203</td>\n",
       "      <td>Abaete</td>\n",
       "      <td>-19.15510</td>\n",
       "      <td>-45.4444</td>\n",
       "      <td>0</td>\n",
       "      <td>31</td>\n",
       "      <td>MG</td>\n",
       "      <td>Minas Gerais</td>\n",
       "    </tr>\n",
       "    <tr>\n",
       "      <td>4</td>\n",
       "      <td>1500107</td>\n",
       "      <td>Abaetetuba</td>\n",
       "      <td>-1.72183</td>\n",
       "      <td>-48.8788</td>\n",
       "      <td>0</td>\n",
       "      <td>15</td>\n",
       "      <td>PA</td>\n",
       "      <td>Pará</td>\n",
       "    </tr>\n",
       "  </tbody>\n",
       "</table>\n",
       "</div>"
      ],
      "text/plain": [
       "   codigo_ibge                 nome  latitude  longitude  capital  codigo_uf  \\\n",
       "0      5200050      Abadia de Goias -16.75730   -49.4412        0         52   \n",
       "1      3100104  Abadia dos Dourados -18.48310   -47.3916        0         31   \n",
       "2      5200100            Abadiania -16.19700   -48.7057        0         52   \n",
       "3      3100203               Abaete -19.15510   -45.4444        0         31   \n",
       "4      1500107           Abaetetuba  -1.72183   -48.8788        0         15   \n",
       "\n",
       "   uf        estado  \n",
       "0  GO         Goiás  \n",
       "1  MG  Minas Gerais  \n",
       "2  GO         Goiás  \n",
       "3  MG  Minas Gerais  \n",
       "4  PA          Pará  "
      ]
     },
     "execution_count": 22,
     "metadata": {},
     "output_type": "execute_result"
    }
   ],
   "source": [
    "print('Dimensões antigas:', df_cities.shape, 'Dimensões novas:', df_cities_full.shape)\n",
    "df_brazil.head()"
   ]
  },
  {
   "cell_type": "markdown",
   "metadata": {},
   "source": [
    "### Questão\n",
    "\n",
    "\n",
    "Plote no mapa do Brasil indicadores  de desflorestamento para todos os municipios do amazonas.\n",
    "Os indicadores devem ser relativos ao tamanho da floresta de cada município dando destaque aos municipios que com desflorestamento acima da média.\n",
    "\n",
    "#### Dica\n",
    "\n",
    "O desflorestamento relativo é dado pelas colunas ***Desflorestamento 2014*** / ***Floresta*** da tabela ***amazonas.csv***.\n",
    "Note que a coluna ***Floresta*** não é numérica e contém ',' separando os milhares, sendo necessário remover a ',' de todas as entradas e logo após converter os valores para float.\n",
    "\n",
    "Podem ser usadas todas as dicas relevantes sobre apresentação de figuras  nos textos *Making Data Meaningful* e *Ten Simple Rules for Better Figures*.\n",
    "\n",
    "Para plotar sobre o mapa, pode-se usar a funções normais do matplotlib e ao fim chamar a função **mplleaflet.display()**."
   ]
  },
  {
   "cell_type": "code",
   "execution_count": 131,
   "metadata": {},
   "outputs": [],
   "source": [
    "#calcula as informações do desflorestamento\n"
   ]
  },
  {
   "cell_type": "code",
   "execution_count": 23,
   "metadata": {},
   "outputs": [
    {
     "name": "stderr",
     "output_type": "stream",
     "text": [
      "/Library/Frameworks/Python.framework/Versions/3.6/lib/python3.6/site-packages/IPython/core/display.py:694: UserWarning: Consider using IPython.display.IFrame instead\n",
      "  warnings.warn(\"Consider using IPython.display.IFrame instead\")\n"
     ]
    },
    {
     "data": {
      "text/html": [
       "<iframe src=\"data:text/html;base64,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\" width=\"100%\" height=\"480\"></iframe>"
      ],
      "text/plain": [
       "<IPython.core.display.HTML object>"
      ]
     },
     "execution_count": 23,
     "metadata": {},
     "output_type": "execute_result"
    }
   ],
   "source": [
    "#codigo de plot\n",
    "plt.figure(figsize=(8,8))\n",
    "\n",
    "plt.plot([1], [1], 'o')\n",
    "\n",
    "#transforma o plot em localizações no mapa\n",
    "mplleaflet.display()"
   ]
  },
  {
   "cell_type": "markdown",
   "metadata": {},
   "source": [
    "### Questão\n",
    "\n",
    "\n",
    "Segundo os dados, a mineração nos municípios tem alguma relação com o desflorestamento acima da média?\n",
    "Mostre suas conclusões por tabelas e plots no mapa."
   ]
  },
  {
   "cell_type": "code",
   "execution_count": 133,
   "metadata": {},
   "outputs": [],
   "source": [
    "#calcula as relaçoes entre desflorestamento e mineração\n"
   ]
  },
  {
   "cell_type": "code",
   "execution_count": 134,
   "metadata": {},
   "outputs": [],
   "source": [
    "# conclusoes sobre mineração e desflorestamento\n"
   ]
  },
  {
   "cell_type": "code",
   "execution_count": 24,
   "metadata": {},
   "outputs": [
    {
     "data": {
      "text/html": [
       "<iframe src=\"data:text/html;base64,PGhlYWQ+CiAgICA8c2NyaXB0IHNyYz0iaHR0cHM6Ly9jZG5qcy5jbG91ZGZsYXJlLmNvbS9hamF4L2xpYnMvbGVhZmxldC8wLjcuMy9sZWFmbGV0LmpzIj48L3NjcmlwdD4KICAgIDxsaW5rIHJlbD0ic3R5bGVzaGVldCIgaHJlZj0iaHR0cHM6Ly9jZG5qcy5jbG91ZGZsYXJlLmNvbS9hamF4L2xpYnMvbGVhZmxldC8wLjcuMy9sZWFmbGV0LmNzcyIgLz4KICA8c3R5bGU+CiAgICAjbWFwNDE4N2UwNzEzNGMxNGJlZTk5MjhiNTVkOWQ2YzU5YjkgewogICAgICBoZWlnaHQ6MTAwJTsKICAgIH0KICA8L3N0eWxlPiAKPC9oZWFkPgo8Ym9keT4KICA8ZGl2IGlkPSJtYXA0MTg3ZTA3MTM0YzE0YmVlOTkyOGI1NWQ5ZDZjNTliOSI+PC9kaXY+CjxzY3JpcHQgdGV4dD0idGV4dC9qYXZhc2NyaXB0Ij4KdmFyIG1hcCA9IEwubWFwKCdtYXA0MTg3ZTA3MTM0YzE0YmVlOTkyOGI1NWQ5ZDZjNTliOScpOwpMLnRpbGVMYXllcigKICAiaHR0cDovL3tzfS50aWxlLm9wZW5zdHJlZXRtYXAub3JnL3t6fS97eH0ve3l9LnBuZyIsCiAge21heFpvb206MTksIGF0dHJpYnV0aW9uOiAnPGEgaHJlZj0iaHR0cHM6Ly9naXRodWIuY29tL2p3YXNzL21wbGxlYWZsZXQiPm1wbGxlYWZsZXQ8L2E+IHwgTWFwIGRhdGEgKGMpIDxhIGhyZWY9Imh0dHA6Ly9vcGVuc3RyZWV0bWFwLm9yZyI+T3BlblN0cmVldE1hcDwvYT4gY29udHJpYnV0b3JzJ30pLmFkZFRvKG1hcCk7CnZhciBnakRhdGEgPSB7InR5cGUiOiAiRmVhdHVyZUNvbGxlY3Rpb24iLCAiZmVhdHVyZXMiOiBbXX07CgppZiAoZ2pEYXRhLmZlYXR1cmVzLmxlbmd0aCAhPSAwKSB7CiAgdmFyIGdqID0gTC5nZW9Kc29uKGdqRGF0YSwgewogICAgc3R5bGU6IGZ1bmN0aW9uIChmZWF0dXJlKSB7CiAgICAgIHJldHVybiBmZWF0dXJlLnByb3BlcnRpZXM7CiAgICB9LAogICAgcG9pbnRUb0xheWVyOiBmdW5jdGlvbiAoZmVhdHVyZSwgbGF0bG5nKSB7CiAgICAgIHZhciBpY29uID0gTC5kaXZJY29uKHsnaHRtbCc6IGZlYXR1cmUucHJvcGVydGllcy5odG1sLCAKICAgICAgICBpY29uQW5jaG9yOiBbZmVhdHVyZS5wcm9wZXJ0aWVzLmFuY2hvcl94LCAKICAgICAgICAgICAgICAgICAgICAgZmVhdHVyZS5wcm9wZXJ0aWVzLmFuY2hvcl95XSwgCiAgICAgICAgICBjbGFzc05hbWU6ICdlbXB0eSd9KTsgIC8vIFdoYXQgY2FuIEkgZG8gYWJvdXQgZW1wdHk/CiAgICAgIHJldHVybiBMLm1hcmtlcihsYXRsbmcsIHtpY29uOiBpY29ufSk7CiAgICB9CiAgfSk7CiAgZ2ouYWRkVG8obWFwKTsKICAKICBtYXAuZml0Qm91bmRzKGdqLmdldEJvdW5kcygpKTsKfSBlbHNlIHsKICBtYXAuc2V0VmlldyhbMCwgMF0sIDEpOwp9Cjwvc2NyaXB0Pgo8L2JvZHk+\" width=\"100%\" height=\"480\"></iframe>"
      ],
      "text/plain": [
       "<IPython.core.display.HTML object>"
      ]
     },
     "execution_count": 24,
     "metadata": {},
     "output_type": "execute_result"
    }
   ],
   "source": [
    "#codigo de plot\n",
    "plt.figure(figsize=(8,8))\n",
    "\n",
    "\n",
    "\n",
    "#transforma o plot em localizações no mapa\n",
    "mplleaflet.display()"
   ]
  },
  {
   "cell_type": "code",
   "execution_count": null,
   "metadata": {},
   "outputs": [],
   "source": []
  }
 ],
 "metadata": {
  "kernelspec": {
   "display_name": "Python 3",
   "language": "python",
   "name": "python3"
  },
  "language_info": {
   "codemirror_mode": {
    "name": "ipython",
    "version": 3
   },
   "file_extension": ".py",
   "mimetype": "text/x-python",
   "name": "python",
   "nbconvert_exporter": "python",
   "pygments_lexer": "ipython3",
   "version": "3.6.5"
  }
 },
 "nbformat": 4,
 "nbformat_minor": 2
}
