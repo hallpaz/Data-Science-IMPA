{
 "cells": [
  {
   "cell_type": "markdown",
   "metadata": {},
   "source": [
    "# Exercício 3 - NLP"
   ]
  },
  {
   "cell_type": "markdown",
   "metadata": {},
   "source": [
    "### Questão 1\n",
    "\n",
    "Objetivo: prever se uma mensagem é spam ou não.\n",
    "\n",
    "a) Qual porcentagem dos documentos são spam?\n",
    "\n",
    "b) Usando mala de palavras (CountVectorizer), qual é o token mais longo do vocabulário dos dados de treinamento? Utilize o modelo de classificação multinomial Naive Bayes e encontre a (AUC) usando os dados de teste.\n",
    "\n",
    "c) Utilize o vetorizador Tf-idf nos dados de treinamento. Quais 20 características têm o menor tf-idf e quais 20 têm o maior tf-idf? Coloque essas características em duas séries, onde cada série é classificada pelo valor tf-idf e, em seguida, em ordem alfabética pelo nome da característica. O índice da série deve ser o nome da característica e os dados devem ser o tf-idf. A série de 20 características com o menor tf-idfs deve ser classificada de forma crescente, a lista de 20 características com o maior tf-idfs deve ser classificada de forma decrescente.\n",
    "\n",
    "d) Utilize o vetorizador Tf-idf nos dados de treinamento, ignorando termos menor que 3. Use o modelo classificador multinomial Naive Bayes com alfa = 0.1, e então calcule a pontuação AUC usando os dados de teste. Avalie com diferentes valores para o parâmetro alfa e descreva brevemente como esse parâmetro se comporta no modelo.\n",
    "\n",
    "e) Qual é o tamanho médio dos documentos (número de caracteres) para documentos não-spam e documentos spam? Utilize o vetorizador Tf-idf nos dados de treinamento, ignorando termos menor que 5. Usando essa matriz de termos de documento e um característica  adicional (o comprimento do documento (número de caracteres)), treine um modelo SVC, e em seguida, calcule a AUC usando os dados de teste. Avalie com diferentes valores para o parâmetro de regularização C e descreva brevemente como esse parâmetro se comporta no modelo.\n",
    "\n",
    "f) Qual é o número médio de dígitos por documento para documentos não-spam e documentos spam? Utilize o vetorizador Tf-idf nos dados de treinamento, ignorando termos menor que 5 e utilize unigramas, bigramas e trigramas. Usando essa matriz de termos de documento e duas características  adicionais (o comprimento do documento e o número médio de dígitos por documento) treine um modelo de regressão logística, e em seguida, calcule a AUC usando os dados de teste. Avalie com diferentes valores para o parâmetro de regularização C e descreva brevemente como esse parâmetro se comporta no modelo.\n",
    "\n",
    "g) Qual é o número médio de caracteres que não são palavras (tudo que não é uma letra, dígito ou underscore) por documento para documentos não-spam e documentos spam? Dica: use as classes de caracteres \\w e \\W do pacote re (regular expressions). Utilize o vetorizador CountVectorizer nos dados de treinamento, ignorando termos menor que 5 e utilize unigramas, bigramas e trigramas. Usando esta matriz de termos de documento e as seguintes características adicionais: o comprimento do documento, número de dígitos por documento, e o número de caracteres que não são palavras (tudo que não é uma letra, dígito ou underscore), treine um modelo de regressão logística, e em seguida, calcule a AUC usando os dados de teste. Avalie com diferentes valores para o parâmetro de regularização C e descreva brevemente como esse parâmetro se comporta no modelo. Encontre os 10 menores e os 10 maiores coeficientes do modelo e retorne-os juntamente com a pontuação da AUC em uma tupla. A lista dos 10 menores coeficientes deve ser classificada de forma crescente, a lista dos 10 maiores coeficientes de forma decrescente."
   ]
  },
  {
   "cell_type": "code",
   "execution_count": 1,
   "metadata": {},
   "outputs": [],
   "source": [
    "import pandas as pd\n",
    "import numpy as np\n",
    "import matplotlib.pyplot as plt\n",
    "import os\n",
    "import re"
   ]
  },
  {
   "cell_type": "code",
   "execution_count": 2,
   "metadata": {},
   "outputs": [],
   "source": [
    "from sklearn.feature_extraction.text import CountVectorizer, TfidfTransformer, TfidfVectorizer\n",
    "from sklearn.linear_model import LogisticRegression\n",
    "from sklearn.model_selection import GridSearchCV\n",
    "from sklearn.naive_bayes import MultinomialNB\n",
    "from sklearn.svm import SVC\n",
    "import sklearn.metrics as metrics\n"
   ]
  },
  {
   "cell_type": "code",
   "execution_count": 3,
   "metadata": {},
   "outputs": [],
   "source": [
    "# constants\n",
    "DATA_DIR = 'CSV'\n",
    "SPAM_FILE = 'spam.csv'\n",
    "NEWS_FILE = 'newsgroups.txt'\n",
    "\n",
    "NOT_WORDS = 'not_words'\n",
    "DIGITS = 'digits'\n",
    "DOC_SIZE = 'doc_size'"
   ]
  },
  {
   "cell_type": "code",
   "execution_count": 4,
   "metadata": {},
   "outputs": [
    {
     "data": {
      "text/html": [
       "<div>\n",
       "<style scoped>\n",
       "    .dataframe tbody tr th:only-of-type {\n",
       "        vertical-align: middle;\n",
       "    }\n",
       "\n",
       "    .dataframe tbody tr th {\n",
       "        vertical-align: top;\n",
       "    }\n",
       "\n",
       "    .dataframe thead th {\n",
       "        text-align: right;\n",
       "    }\n",
       "</style>\n",
       "<table border=\"1\" class=\"dataframe\">\n",
       "  <thead>\n",
       "    <tr style=\"text-align: right;\">\n",
       "      <th></th>\n",
       "      <th>text</th>\n",
       "      <th>target</th>\n",
       "    </tr>\n",
       "  </thead>\n",
       "  <tbody>\n",
       "    <tr>\n",
       "      <td>0</td>\n",
       "      <td>Go until jurong point, crazy.. Available only ...</td>\n",
       "      <td>0</td>\n",
       "    </tr>\n",
       "    <tr>\n",
       "      <td>1</td>\n",
       "      <td>Ok lar... Joking wif u oni...</td>\n",
       "      <td>0</td>\n",
       "    </tr>\n",
       "    <tr>\n",
       "      <td>2</td>\n",
       "      <td>Free entry in 2 a wkly comp to win FA Cup fina...</td>\n",
       "      <td>1</td>\n",
       "    </tr>\n",
       "    <tr>\n",
       "      <td>3</td>\n",
       "      <td>U dun say so early hor... U c already then say...</td>\n",
       "      <td>0</td>\n",
       "    </tr>\n",
       "    <tr>\n",
       "      <td>4</td>\n",
       "      <td>Nah I don't think he goes to usf, he lives aro...</td>\n",
       "      <td>0</td>\n",
       "    </tr>\n",
       "    <tr>\n",
       "      <td>5</td>\n",
       "      <td>FreeMsg Hey there darling it's been 3 week's n...</td>\n",
       "      <td>1</td>\n",
       "    </tr>\n",
       "    <tr>\n",
       "      <td>6</td>\n",
       "      <td>Even my brother is not like to speak with me. ...</td>\n",
       "      <td>0</td>\n",
       "    </tr>\n",
       "    <tr>\n",
       "      <td>7</td>\n",
       "      <td>As per your request 'Melle Melle (Oru Minnamin...</td>\n",
       "      <td>0</td>\n",
       "    </tr>\n",
       "    <tr>\n",
       "      <td>8</td>\n",
       "      <td>WINNER!! As a valued network customer you have...</td>\n",
       "      <td>1</td>\n",
       "    </tr>\n",
       "    <tr>\n",
       "      <td>9</td>\n",
       "      <td>Had your mobile 11 months or more? U R entitle...</td>\n",
       "      <td>1</td>\n",
       "    </tr>\n",
       "  </tbody>\n",
       "</table>\n",
       "</div>"
      ],
      "text/plain": [
       "                                                text  target\n",
       "0  Go until jurong point, crazy.. Available only ...       0\n",
       "1                      Ok lar... Joking wif u oni...       0\n",
       "2  Free entry in 2 a wkly comp to win FA Cup fina...       1\n",
       "3  U dun say so early hor... U c already then say...       0\n",
       "4  Nah I don't think he goes to usf, he lives aro...       0\n",
       "5  FreeMsg Hey there darling it's been 3 week's n...       1\n",
       "6  Even my brother is not like to speak with me. ...       0\n",
       "7  As per your request 'Melle Melle (Oru Minnamin...       0\n",
       "8  WINNER!! As a valued network customer you have...       1\n",
       "9  Had your mobile 11 months or more? U R entitle...       1"
      ]
     },
     "execution_count": 4,
     "metadata": {},
     "output_type": "execute_result"
    }
   ],
   "source": [
    "spam_data = pd.read_csv(os.path.join(DATA_DIR, SPAM_FILE))\n",
    "\n",
    "spam_data['target'] = np.where(spam_data['target']=='spam',1,0)\n",
    "spam_data.head(10)"
   ]
  },
  {
   "cell_type": "markdown",
   "metadata": {},
   "source": [
    "# Preparação dos dados\n",
    "\n",
    "### Tendo em vista os pedidos subsequentes, realizarei uma preparação do dataframe para ser capaz de responder a todos os ítens mais facilmente."
   ]
  },
  {
   "cell_type": "code",
   "execution_count": 5,
   "metadata": {},
   "outputs": [],
   "source": [
    "# Retorna os caracteres que não compõem palavras\n",
    "def non_word_chars(chunk):\n",
    "    return re.findall('\\W', chunk)\n",
    "\n",
    "# retorna o número de dígitos em uma string (usaremos sobre documentos documents)\n",
    "def count_digits(chunk):\n",
    "    return len(re.findall('\\d', chunk))\n",
    "\n",
    "# Retorna estatísticas sobre uma característica\n",
    "def feature_stats(df, feature, spam=1):\n",
    "    return spam_data[spam_data.target == spam].loc[:,[feature]].describe().T\n",
    "\n",
    "# Exibe a curva ROC com o valor de AUC\n",
    "def plot_roc_auc(y_test, probs):\n",
    "    fpr, tpr, threshold = metrics.roc_curve(y_test, probs)\n",
    "    roc_auc = metrics.roc_auc_score(y_test, probs)\n",
    "\n",
    "    plt.figure(figsize=(12,6))\n",
    "    plt.title('Receiver Operating Characteristic')\n",
    "    plt.plot(fpr, tpr, 'b', label = 'AUC = %0.2f' % roc_auc)\n",
    "    plt.legend(loc = 'lower right')\n",
    "    plt.plot([0, 1], [0, 1],'r--')\n",
    "    plt.ylabel('True Positive Rate')\n",
    "    plt.xlabel('False Positive Rate')\n",
    "    plt.show()\n",
    "    return roc_auc\n",
    "\n",
    "# Script para avaliar diversos valores de um parâmetro com um modelo. Referência documentada abaixo.\n",
    "def tune_parameters(Xtrain, ytrain, Xtest, ytest, params, model):\n",
    "    \"\"\" Parameter estimation using grid search with cross-validation\n",
    "          Avaiable at: https://scikit-learn.org/stable/auto_examples/model_selection/plot_grid_search_digits.html\"\"\"\n",
    "    \n",
    "    tuned_parameters = params\n",
    "\n",
    "    scores = ['roc_auc']\n",
    "\n",
    "    for score in scores:\n",
    "        print(\"# Tuning hyper-parameters for %s\" % score)\n",
    "        print()\n",
    "\n",
    "        clf = GridSearchCV(model, tuned_parameters, cv=5,\n",
    "                           scoring=score)\n",
    "        clf.fit(Xtrain, ytrain)\n",
    "\n",
    "        print(\"Best parameters set found on development set:\")\n",
    "        print()\n",
    "        print(clf.best_params_)\n",
    "        print()\n",
    "        print(\"Grid scores on development set:\")\n",
    "        print()\n",
    "        means = clf.cv_results_['mean_test_score']\n",
    "        stds = clf.cv_results_['std_test_score']\n",
    "        for mean, std, params in zip(means, stds, clf.cv_results_['params']):\n",
    "            print(\"%0.3f (+/-%0.03f) for %r\"\n",
    "                  % (mean, std * 2, params))\n",
    "        print()\n",
    "\n",
    "        print(\"Detailed classification report:\")\n",
    "        print()\n",
    "        print(\"The model is trained on the full development set.\")\n",
    "        print(\"The scores are computed on the full evaluation set.\")\n",
    "        print()\n",
    "        y_true, y_pred = ytest, clf.predict(Xtest)\n",
    "        print(metrics.classification_report(y_true, y_pred))\n",
    "        print()"
   ]
  },
  {
   "cell_type": "code",
   "execution_count": 6,
   "metadata": {},
   "outputs": [],
   "source": [
    "# tamanho de cada documento\n",
    "spam_data[DOC_SIZE] = spam_data.text.apply(lambda x: len(x))\n",
    "# número de caracteres que não compõem palavras\n",
    "spam_data[NOT_WORDS] = spam_data.text.apply(lambda x: len(non_word_chars(x)))\n",
    "# número de dígitos no documento\n",
    "spam_data[DIGITS] = spam_data.text.apply(count_digits)"
   ]
  },
  {
   "cell_type": "code",
   "execution_count": 7,
   "metadata": {},
   "outputs": [
    {
     "data": {
      "text/html": [
       "<div>\n",
       "<style scoped>\n",
       "    .dataframe tbody tr th:only-of-type {\n",
       "        vertical-align: middle;\n",
       "    }\n",
       "\n",
       "    .dataframe tbody tr th {\n",
       "        vertical-align: top;\n",
       "    }\n",
       "\n",
       "    .dataframe thead th {\n",
       "        text-align: right;\n",
       "    }\n",
       "</style>\n",
       "<table border=\"1\" class=\"dataframe\">\n",
       "  <thead>\n",
       "    <tr style=\"text-align: right;\">\n",
       "      <th></th>\n",
       "      <th>text</th>\n",
       "      <th>target</th>\n",
       "      <th>doc_size</th>\n",
       "      <th>not_words</th>\n",
       "      <th>digits</th>\n",
       "    </tr>\n",
       "  </thead>\n",
       "  <tbody>\n",
       "    <tr>\n",
       "      <td>0</td>\n",
       "      <td>Go until jurong point, crazy.. Available only ...</td>\n",
       "      <td>0</td>\n",
       "      <td>111</td>\n",
       "      <td>28</td>\n",
       "      <td>0</td>\n",
       "    </tr>\n",
       "    <tr>\n",
       "      <td>1</td>\n",
       "      <td>Ok lar... Joking wif u oni...</td>\n",
       "      <td>0</td>\n",
       "      <td>29</td>\n",
       "      <td>11</td>\n",
       "      <td>0</td>\n",
       "    </tr>\n",
       "    <tr>\n",
       "      <td>2</td>\n",
       "      <td>Free entry in 2 a wkly comp to win FA Cup fina...</td>\n",
       "      <td>1</td>\n",
       "      <td>155</td>\n",
       "      <td>33</td>\n",
       "      <td>25</td>\n",
       "    </tr>\n",
       "    <tr>\n",
       "      <td>3</td>\n",
       "      <td>U dun say so early hor... U c already then say...</td>\n",
       "      <td>0</td>\n",
       "      <td>49</td>\n",
       "      <td>16</td>\n",
       "      <td>0</td>\n",
       "    </tr>\n",
       "    <tr>\n",
       "      <td>4</td>\n",
       "      <td>Nah I don't think he goes to usf, he lives aro...</td>\n",
       "      <td>0</td>\n",
       "      <td>61</td>\n",
       "      <td>14</td>\n",
       "      <td>0</td>\n",
       "    </tr>\n",
       "    <tr>\n",
       "      <td>5</td>\n",
       "      <td>FreeMsg Hey there darling it's been 3 week's n...</td>\n",
       "      <td>1</td>\n",
       "      <td>148</td>\n",
       "      <td>40</td>\n",
       "      <td>4</td>\n",
       "    </tr>\n",
       "    <tr>\n",
       "      <td>6</td>\n",
       "      <td>Even my brother is not like to speak with me. ...</td>\n",
       "      <td>0</td>\n",
       "      <td>77</td>\n",
       "      <td>17</td>\n",
       "      <td>0</td>\n",
       "    </tr>\n",
       "    <tr>\n",
       "      <td>7</td>\n",
       "      <td>As per your request 'Melle Melle (Oru Minnamin...</td>\n",
       "      <td>0</td>\n",
       "      <td>160</td>\n",
       "      <td>31</td>\n",
       "      <td>1</td>\n",
       "    </tr>\n",
       "    <tr>\n",
       "      <td>8</td>\n",
       "      <td>WINNER!! As a valued network customer you have...</td>\n",
       "      <td>1</td>\n",
       "      <td>158</td>\n",
       "      <td>32</td>\n",
       "      <td>19</td>\n",
       "    </tr>\n",
       "    <tr>\n",
       "      <td>9</td>\n",
       "      <td>Had your mobile 11 months or more? U R entitle...</td>\n",
       "      <td>1</td>\n",
       "      <td>154</td>\n",
       "      <td>30</td>\n",
       "      <td>13</td>\n",
       "    </tr>\n",
       "  </tbody>\n",
       "</table>\n",
       "</div>"
      ],
      "text/plain": [
       "                                                text  target  doc_size  \\\n",
       "0  Go until jurong point, crazy.. Available only ...       0       111   \n",
       "1                      Ok lar... Joking wif u oni...       0        29   \n",
       "2  Free entry in 2 a wkly comp to win FA Cup fina...       1       155   \n",
       "3  U dun say so early hor... U c already then say...       0        49   \n",
       "4  Nah I don't think he goes to usf, he lives aro...       0        61   \n",
       "5  FreeMsg Hey there darling it's been 3 week's n...       1       148   \n",
       "6  Even my brother is not like to speak with me. ...       0        77   \n",
       "7  As per your request 'Melle Melle (Oru Minnamin...       0       160   \n",
       "8  WINNER!! As a valued network customer you have...       1       158   \n",
       "9  Had your mobile 11 months or more? U R entitle...       1       154   \n",
       "\n",
       "   not_words  digits  \n",
       "0         28       0  \n",
       "1         11       0  \n",
       "2         33      25  \n",
       "3         16       0  \n",
       "4         14       0  \n",
       "5         40       4  \n",
       "6         17       0  \n",
       "7         31       1  \n",
       "8         32      19  \n",
       "9         30      13  "
      ]
     },
     "execution_count": 7,
     "metadata": {},
     "output_type": "execute_result"
    }
   ],
   "source": [
    "spam_data.head(10)"
   ]
  },
  {
   "cell_type": "markdown",
   "metadata": {},
   "source": [
    "## a) Qual porcentagem dos documentos são spam?"
   ]
  },
  {
   "cell_type": "code",
   "execution_count": 8,
   "metadata": {},
   "outputs": [
    {
     "data": {
      "text/plain": [
       "array([0, 1])"
      ]
     },
     "execution_count": 8,
     "metadata": {},
     "output_type": "execute_result"
    }
   ],
   "source": [
    "spam_data.target.unique()"
   ]
  },
  {
   "cell_type": "markdown",
   "metadata": {},
   "source": [
    "Os únicos valores presentes na série \"target\" são 0 e 1. Os documentos classificados como spam possuem valor 1 nesta série. Assim sendo, podemos obter o percentual de spam da base com uma simples soma e divisão"
   ]
  },
  {
   "cell_type": "code",
   "execution_count": 9,
   "metadata": {},
   "outputs": [
    {
     "name": "stdout",
     "output_type": "stream",
     "text": [
      "=> O percentual de documentos que são spam é 13.41%\n"
     ]
    }
   ],
   "source": [
    "spam_ratio = spam_data.target.sum()/spam_data.target.size\n",
    "print('=> O percentual de documentos que são spam é {0:.2f}%'.format(spam_ratio*100))"
   ]
  },
  {
   "cell_type": "markdown",
   "metadata": {},
   "source": [
    "## Usando mala de palavras (CountVectorizer), qual é o token mais longo do vocabulário dos dados de treinamento?"
   ]
  },
  {
   "cell_type": "code",
   "execution_count": 10,
   "metadata": {},
   "outputs": [],
   "source": [
    "from sklearn.model_selection import train_test_split\n",
    "\n",
    "\n",
    "X_train, X_test, y_train, y_test = train_test_split(spam_data['text'], \n",
    "                                                    spam_data['target'], \n",
    "                                                    random_state=0)"
   ]
  },
  {
   "cell_type": "code",
   "execution_count": 11,
   "metadata": {},
   "outputs": [
    {
     "data": {
      "text/plain": [
       "(4179, 7354)"
      ]
     },
     "execution_count": 11,
     "metadata": {},
     "output_type": "execute_result"
    }
   ],
   "source": [
    "cv = CountVectorizer()\n",
    "bow_train = cv.fit_transform(X_train)\n",
    "bow_train.shape"
   ]
  },
  {
   "cell_type": "code",
   "execution_count": 12,
   "metadata": {},
   "outputs": [
    {
     "name": "stdout",
     "output_type": "stream",
     "text": [
      "=> O token mais longo do vocabulário dos dados de treinamento é: com1win150ppmx3age16subscription (32 caracteres)\n",
      "Para referência, o segundo maior é: minmoremobsemspobox45po139wa\n"
     ]
    }
   ],
   "source": [
    "tokens = cv.get_feature_names()\n",
    "tokens.sort(key=len, reverse=True)\n",
    "print(\"=> O token mais longo do vocabulário dos dados de treinamento é: {} ({} caracteres)\".format(\n",
    "    tokens[0], len(tokens[0])))\n",
    "print(\"Para referência, o segundo maior é: {}\".format(tokens[1]))"
   ]
  },
  {
   "cell_type": "markdown",
   "metadata": {},
   "source": [
    "## Utilize o modelo de classificação multinomial Naive Bayes e encontre a (AUC) usando os dados de teste."
   ]
  },
  {
   "cell_type": "code",
   "execution_count": 13,
   "metadata": {},
   "outputs": [],
   "source": [
    "mnb_model = MultinomialNB()\n",
    "mnb_model.fit(bow_train, y_train)\n",
    "# Aplica a mesma transformação aos dados de teste para garantir compatibilidade de dimensões \n",
    "# (uso dos mesmos tokens como características)\n",
    "bow_test = cv.transform(X_test)\n",
    "# mantém apenas a probabilidade de ser spam \n",
    "probs = mnb_model.predict_proba(bow_test)[:, 1]"
   ]
  },
  {
   "cell_type": "code",
   "execution_count": 14,
   "metadata": {},
   "outputs": [
    {
     "data": {
      "image/png": "[encoded data removed]",
      "text/plain": [
       "<Figure size 864x432 with 1 Axes>"
      ]
     },
     "metadata": {
      "needs_background": "light"
     },
     "output_type": "display_data"
    },
    {
     "name": "stdout",
     "output_type": "stream",
     "text": [
      "AUC: 0.9884004210311869\n"
     ]
    }
   ],
   "source": [
    "auc = plot_roc_auc(y_test, probs)\n",
    "print(\"AUC: {}\".format(auc))"
   ]
  },
  {
   "cell_type": "markdown",
   "metadata": {},
   "source": [
    "## c) Utilize o vetorizador Tf-idf nos dados de treinamento. "
   ]
  },
  {
   "cell_type": "code",
   "execution_count": 15,
   "metadata": {},
   "outputs": [
    {
     "data": {
      "text/plain": [
       "(4179, 7354)"
      ]
     },
     "execution_count": 15,
     "metadata": {},
     "output_type": "execute_result"
    }
   ],
   "source": [
    "tfidf_vectorizer = TfidfVectorizer()\n",
    "train_matrix = tfidf_vectorizer.fit_transform(X_train)\n",
    "train_matrix.shape"
   ]
  },
  {
   "cell_type": "markdown",
   "metadata": {},
   "source": [
    "## Quais 20 características têm o menor tf-idf e quais 20 têm o maior tf-idf? Coloque essas características em duas séries, onde cada série é classificada pelo valor tf-idf e, em seguida, em ordem alfabética pelo nome da característica. O índice da série deve ser o nome da característica e os dados devem ser o tf-idf. A série de 20 características com o menor tf-idfs deve ser classificada de forma crescente, a lista de 20 características com o maior tf-idfs deve ser classificada de forma decrescente."
   ]
  },
  {
   "cell_type": "code",
   "execution_count": 16,
   "metadata": {},
   "outputs": [],
   "source": [
    "features = np.array(tfidf_vectorizer.get_feature_names())\n",
    "tfidf_sorted = np.sort(train_matrix.toarray()).flatten()\n",
    "sorting_indices = np.argsort(train_matrix.toarray()).flatten()"
   ]
  },
  {
   "cell_type": "code",
   "execution_count": 17,
   "metadata": {},
   "outputs": [],
   "source": [
    "limit = 20\n",
    "df_lowest = pd.Series(tfidf_sorted[:limit], index=features[sorting_indices][:limit])[::-1]\n",
    "df_highest = pd.Series(tfidf_sorted[-limit:], index=features[sorting_indices][-limit:])[::-1]"
   ]
  },
  {
   "cell_type": "code",
   "execution_count": 18,
   "metadata": {},
   "outputs": [
    {
     "name": "stdout",
     "output_type": "stream",
     "text": [
      "=> 20 características com menor tf-idf:\n"
     ]
    },
    {
     "data": {
      "text/plain": [
       "petey              0.0\n",
       "petrol             0.0\n",
       "petticoatdreams    0.0\n",
       "pg                 0.0\n",
       "ph                 0.0\n",
       "pharmacy           0.0\n",
       "phd                0.0\n",
       "photo              0.0\n",
       "phews              0.0\n",
       "phil               0.0\n",
       "philosophical      0.0\n",
       "philosophy         0.0\n",
       "phne               0.0\n",
       "phoenix            0.0\n",
       "phone              0.0\n",
       "phonebook          0.0\n",
       "phoned             0.0\n",
       "phones             0.0\n",
       "phony              0.0\n",
       "00                 0.0\n",
       "dtype: float64"
      ]
     },
     "execution_count": 18,
     "metadata": {},
     "output_type": "execute_result"
    }
   ],
   "source": [
    "print(\"=> 20 características com menor tf-idf:\")\n",
    "df_lowest"
   ]
  },
  {
   "cell_type": "code",
   "execution_count": 19,
   "metadata": {},
   "outputs": [
    {
     "name": "stdout",
     "output_type": "stream",
     "text": [
      "=> 20 características com maior tf-idf:\n"
     ]
    },
    {
     "data": {
      "text/plain": [
       "wont           0.565857\n",
       "dare           0.347443\n",
       "stupid         0.311998\n",
       "you            0.305559\n",
       "hear           0.275090\n",
       "talk           0.258698\n",
       "anything       0.241310\n",
       "after          0.225107\n",
       "tell           0.213221\n",
       "to             0.197660\n",
       "how            0.179845\n",
       "ended          0.000000\n",
       "emergency      0.000000\n",
       "else           0.000000\n",
       "elsewhere      0.000000\n",
       "em             0.000000\n",
       "email          0.000000\n",
       "enemy          0.000000\n",
       "embarassed     0.000000\n",
       "embarassing    0.000000\n",
       "dtype: float64"
      ]
     },
     "execution_count": 19,
     "metadata": {},
     "output_type": "execute_result"
    }
   ],
   "source": [
    "print(\"=> 20 características com maior tf-idf:\")\n",
    "df_highest"
   ]
  },
  {
   "cell_type": "markdown",
   "metadata": {},
   "source": [
    "## d) Utilize o vetorizador Tf-idf nos dados de treinamento, ignorando termos menor que 3. "
   ]
  },
  {
   "cell_type": "code",
   "execution_count": 20,
   "metadata": {},
   "outputs": [],
   "source": [
    "# Alterei a expressão regular padrão, que ignora termos menores que 2, para ignorar termos menores que 3 caracteres\n",
    "tfidf_vectorizer = TfidfVectorizer(token_pattern=r\"(?u)\\b\\w\\w\\w+\\b\")\n",
    "train_matrix = tfidf_vectorizer.fit_transform(X_train)"
   ]
  },
  {
   "cell_type": "markdown",
   "metadata": {},
   "source": [
    "## Use o modelo classificador multinomial Naive Bayes com alfa = 0.1, e então calcule a pontuação AUC usando os dados de teste. Avalie com diferentes valores para o parâmetro alfa e descreva brevemente como esse parâmetro se comporta no modelo."
   ]
  },
  {
   "cell_type": "code",
   "execution_count": 21,
   "metadata": {},
   "outputs": [],
   "source": [
    "test_matrix = tfidf_vectorizer.transform(X_test)\n",
    "mnb_model = MultinomialNB(alpha=0.1)\n",
    "mnb_model.fit(train_matrix, y_train)\n",
    "probs = mnb_model.predict_proba(test_matrix)[:, 1]"
   ]
  },
  {
   "cell_type": "code",
   "execution_count": 22,
   "metadata": {},
   "outputs": [
    {
     "data": {
      "image/png": "[encoded data removed]",
      "text/plain": [
       "<Figure size 864x432 with 1 Axes>"
      ]
     },
     "metadata": {
      "needs_background": "light"
     },
     "output_type": "display_data"
    },
    {
     "name": "stdout",
     "output_type": "stream",
     "text": [
      "AUC: 0.9919783372663531\n"
     ]
    }
   ],
   "source": [
    "print(\"AUC:\", plot_roc_auc(y_test, probs))"
   ]
  },
  {
   "cell_type": "code",
   "execution_count": 23,
   "metadata": {},
   "outputs": [
    {
     "name": "stdout",
     "output_type": "stream",
     "text": [
      "# Tuning hyper-parameters for roc_auc\n",
      "\n",
      "Best parameters set found on development set:\n",
      "\n",
      "{'alpha': 0.1}\n",
      "\n",
      "Grid scores on development set:\n",
      "\n",
      "0.984 (+/-0.017) for {'alpha': 1e-05}\n",
      "0.986 (+/-0.015) for {'alpha': 0.0001}\n",
      "0.988 (+/-0.013) for {'alpha': 0.001}\n",
      "0.990 (+/-0.010) for {'alpha': 0.01}\n",
      "0.991 (+/-0.010) for {'alpha': 0.1}\n",
      "0.981 (+/-0.015) for {'alpha': 1.0}\n",
      "0.937 (+/-0.029) for {'alpha': 10.0}\n",
      "0.858 (+/-0.040) for {'alpha': 100.00000000000001}\n",
      "0.822 (+/-0.043) for {'alpha': 1000.0000000000001}\n",
      "0.816 (+/-0.043) for {'alpha': 10000.0}\n",
      "\n",
      "Detailed classification report:\n",
      "\n",
      "The model is trained on the full development set.\n",
      "The scores are computed on the full evaluation set.\n",
      "\n",
      "              precision    recall  f1-score   support\n",
      "\n",
      "           0       0.98      1.00      0.99      1196\n",
      "           1       0.99      0.89      0.94       197\n",
      "\n",
      "    accuracy                           0.98      1393\n",
      "   macro avg       0.99      0.94      0.96      1393\n",
      "weighted avg       0.98      0.98      0.98      1393\n",
      "\n",
      "\n"
     ]
    }
   ],
   "source": [
    "tune_parameters(train_matrix, y_train, test_matrix, y_test, \n",
    "                {'alpha':[0.00001*10**v for v in range(10)]}, \n",
    "                mnb_model)"
   ]
  },
  {
   "cell_type": "markdown",
   "metadata": {},
   "source": [
    "=> Com a função \"tune_parameters\", construída a partir de um script de *Grid Search* disponível na documentação do Sci-Kit Learn, é possível automatizar uma avaliação do modelo com diferentes valores de um ou mais hiperparâmetros e com *validação cruzada*. No caso do classificador multinomial Naive Bayes, observa-se que os melhores valores estão no entorno de 0.1, tanto se considerarmos o maior valor obtido para a métrica AUC, quanto se olharmos para a variância do resultado, que é menor. Valores muito altos de alfa diminuem a eficácia do classificador."
   ]
  },
  {
   "cell_type": "markdown",
   "metadata": {},
   "source": [
    "## e) Qual é o tamanho médio dos documentos (número de caracteres) para documentos não-spam e documentos spam? "
   ]
  },
  {
   "cell_type": "code",
   "execution_count": 24,
   "metadata": {},
   "outputs": [
    {
     "name": "stdout",
     "output_type": "stream",
     "text": [
      "=> Média do tamanho dos documentos que são SPAM: 138.87\n"
     ]
    },
    {
     "data": {
      "text/html": [
       "<div>\n",
       "<style scoped>\n",
       "    .dataframe tbody tr th:only-of-type {\n",
       "        vertical-align: middle;\n",
       "    }\n",
       "\n",
       "    .dataframe tbody tr th {\n",
       "        vertical-align: top;\n",
       "    }\n",
       "\n",
       "    .dataframe thead th {\n",
       "        text-align: right;\n",
       "    }\n",
       "</style>\n",
       "<table border=\"1\" class=\"dataframe\">\n",
       "  <thead>\n",
       "    <tr style=\"text-align: right;\">\n",
       "      <th></th>\n",
       "      <th>count</th>\n",
       "      <th>mean</th>\n",
       "      <th>std</th>\n",
       "      <th>min</th>\n",
       "      <th>25%</th>\n",
       "      <th>50%</th>\n",
       "      <th>75%</th>\n",
       "      <th>max</th>\n",
       "    </tr>\n",
       "  </thead>\n",
       "  <tbody>\n",
       "    <tr>\n",
       "      <td>doc_size</td>\n",
       "      <td>747.0</td>\n",
       "      <td>138.866131</td>\n",
       "      <td>29.183082</td>\n",
       "      <td>13.0</td>\n",
       "      <td>132.5</td>\n",
       "      <td>149.0</td>\n",
       "      <td>157.0</td>\n",
       "      <td>224.0</td>\n",
       "    </tr>\n",
       "  </tbody>\n",
       "</table>\n",
       "</div>"
      ],
      "text/plain": [
       "          count        mean        std   min    25%    50%    75%    max\n",
       "doc_size  747.0  138.866131  29.183082  13.0  132.5  149.0  157.0  224.0"
      ]
     },
     "execution_count": 24,
     "metadata": {},
     "output_type": "execute_result"
    }
   ],
   "source": [
    "df = feature_stats(spam_data, DOC_SIZE, spam=1)\n",
    "print('=> Média do tamanho dos documentos que são SPAM: {:.2f}'.format(df.loc[DOC_SIZE,'mean']))\n",
    "df"
   ]
  },
  {
   "cell_type": "code",
   "execution_count": 25,
   "metadata": {},
   "outputs": [
    {
     "name": "stdout",
     "output_type": "stream",
     "text": [
      "=> Média do tamanho dos documentos que NÃO são SPAM: 71.02\n"
     ]
    },
    {
     "data": {
      "text/html": [
       "<div>\n",
       "<style scoped>\n",
       "    .dataframe tbody tr th:only-of-type {\n",
       "        vertical-align: middle;\n",
       "    }\n",
       "\n",
       "    .dataframe tbody tr th {\n",
       "        vertical-align: top;\n",
       "    }\n",
       "\n",
       "    .dataframe thead th {\n",
       "        text-align: right;\n",
       "    }\n",
       "</style>\n",
       "<table border=\"1\" class=\"dataframe\">\n",
       "  <thead>\n",
       "    <tr style=\"text-align: right;\">\n",
       "      <th></th>\n",
       "      <th>count</th>\n",
       "      <th>mean</th>\n",
       "      <th>std</th>\n",
       "      <th>min</th>\n",
       "      <th>25%</th>\n",
       "      <th>50%</th>\n",
       "      <th>75%</th>\n",
       "      <th>max</th>\n",
       "    </tr>\n",
       "  </thead>\n",
       "  <tbody>\n",
       "    <tr>\n",
       "      <td>doc_size</td>\n",
       "      <td>4825.0</td>\n",
       "      <td>71.023627</td>\n",
       "      <td>58.016023</td>\n",
       "      <td>2.0</td>\n",
       "      <td>33.0</td>\n",
       "      <td>52.0</td>\n",
       "      <td>92.0</td>\n",
       "      <td>910.0</td>\n",
       "    </tr>\n",
       "  </tbody>\n",
       "</table>\n",
       "</div>"
      ],
      "text/plain": [
       "           count       mean        std  min   25%   50%   75%    max\n",
       "doc_size  4825.0  71.023627  58.016023  2.0  33.0  52.0  92.0  910.0"
      ]
     },
     "execution_count": 25,
     "metadata": {},
     "output_type": "execute_result"
    }
   ],
   "source": [
    "df = feature_stats(spam_data, DOC_SIZE, spam=0)\n",
    "print('=> Média do tamanho dos documentos que NÃO são SPAM: {:.2f}'.format(df.loc[DOC_SIZE,'mean']))\n",
    "df"
   ]
  },
  {
   "cell_type": "markdown",
   "metadata": {},
   "source": [
    "## Utilize o vetorizador Tf-idf nos dados de treinamento, ignorando termos menor que 5. Usando essa matriz de termos de documento e um característica adicional (o comprimento do documento (número de caracteres)), treine um modelo SVC, e em seguida, calcule a AUC usando os dados de teste. Avalie com diferentes valores para o parâmetro de regularização C e descreva brevemente como esse parâmetro se comporta no modelo."
   ]
  },
  {
   "cell_type": "code",
   "execution_count": 26,
   "metadata": {},
   "outputs": [],
   "source": [
    "from scipy.sparse import hstack"
   ]
  },
  {
   "cell_type": "code",
   "execution_count": 27,
   "metadata": {},
   "outputs": [],
   "source": [
    "docsize_train, docsize_test, = train_test_split(spam_data.doc_size, random_state=0)"
   ]
  },
  {
   "cell_type": "code",
   "execution_count": 28,
   "metadata": {},
   "outputs": [
    {
     "name": "stdout",
     "output_type": "stream",
     "text": [
      "(4179, 5111) (1393, 5111)\n"
     ]
    }
   ],
   "source": [
    "tfidf_vectorizer = TfidfVectorizer(token_pattern=r\"(?u)\\b\\w\\w\\w\\w\\w+\\b\")\n",
    "tfidf_matrix =  tfidf_vectorizer.fit_transform(X_train)\n",
    "tfidf_test = tfidf_vectorizer.transform(X_test)\n",
    "print(tfidf_matrix.shape, tfidf_test.shape)"
   ]
  },
  {
   "cell_type": "code",
   "execution_count": 29,
   "metadata": {},
   "outputs": [],
   "source": [
    "# Vamos adicionar o comprimento dos documentos à matriz para uso no modelo SVC\n",
    "train_features = hstack((tfidf_matrix, docsize_train.to_numpy()[:, None]))\n",
    "test_features = hstack((tfidf_test, docsize_test.to_numpy()[:, None]))"
   ]
  },
  {
   "cell_type": "code",
   "execution_count": 30,
   "metadata": {},
   "outputs": [],
   "source": [
    "svc_model = SVC(gamma='auto', probability=True)\n",
    "svc_model.fit(train_features, y_train)\n",
    "probs = svc_model.predict_proba(test_features)[:,1]"
   ]
  },
  {
   "cell_type": "code",
   "execution_count": 31,
   "metadata": {
    "scrolled": false
   },
   "outputs": [
    {
     "data": {
      "image/png": "[encoded data removed]",
      "text/plain": [
       "<Figure size 864x432 with 1 Axes>"
      ]
     },
     "metadata": {
      "needs_background": "light"
     },
     "output_type": "display_data"
    },
    {
     "name": "stdout",
     "output_type": "stream",
     "text": [
      "AUC: 0.8207540362969628\n"
     ]
    }
   ],
   "source": [
    "print(\"AUC:\", plot_roc_auc(y_test, probs))"
   ]
  },
  {
   "cell_type": "code",
   "execution_count": 32,
   "metadata": {},
   "outputs": [
    {
     "name": "stdout",
     "output_type": "stream",
     "text": [
      "# Tuning hyper-parameters for roc_auc\n",
      "\n",
      "Best parameters set found on development set:\n",
      "\n",
      "{'C': 10000.0}\n",
      "\n",
      "Grid scores on development set:\n",
      "\n",
      "0.831 (+/-0.078) for {'C': 1e-05}\n",
      "0.831 (+/-0.078) for {'C': 0.0001}\n",
      "0.819 (+/-0.030) for {'C': 0.001}\n",
      "0.824 (+/-0.024) for {'C': 0.01}\n",
      "0.828 (+/-0.050) for {'C': 0.1}\n",
      "0.833 (+/-0.046) for {'C': 1.0}\n",
      "0.825 (+/-0.027) for {'C': 10.0}\n",
      "0.910 (+/-0.019) for {'C': 100.00000000000001}\n",
      "0.975 (+/-0.009) for {'C': 1000.0000000000001}\n",
      "0.980 (+/-0.006) for {'C': 10000.0}\n",
      "\n",
      "Detailed classification report:\n",
      "\n",
      "The model is trained on the full development set.\n",
      "The scores are computed on the full evaluation set.\n",
      "\n",
      "              precision    recall  f1-score   support\n",
      "\n",
      "           0       0.98      0.99      0.99      1196\n",
      "           1       0.97      0.85      0.90       197\n",
      "\n",
      "    accuracy                           0.97      1393\n",
      "   macro avg       0.97      0.92      0.94      1393\n",
      "weighted avg       0.97      0.97      0.97      1393\n",
      "\n",
      "\n"
     ]
    }
   ],
   "source": [
    "tune_parameters(train_features, y_train, test_features, y_test, \n",
    "                {'C':[0.00001*10**v for v in range(10)]}, \n",
    "                svc_model)"
   ]
  },
  {
   "cell_type": "markdown",
   "metadata": {},
   "source": [
    "=> Observamos resultados mais eficazes para valores maiores de C em relação aos valores menores e até mesmo intermediários. Talvez a adição do tamanho dos documentos como característica a ser considerada pelo modelo possa ter causado maior dificuldade na convergência para uma boa solução, visto que são números com valores absolutos muito maiores que as demais características selecionadas. Neste sentido, penalizar com maior intensidade discrepâncias nos pesos do modelo podem favorecer um resultado melhor e, por isso, valores elevados para o hiperparâmetro C de regularização forneceram melhores resultados."
   ]
  },
  {
   "cell_type": "markdown",
   "metadata": {},
   "source": [
    "## f) Qual é o número médio de dígitos por documento para documentos não-spam e documentos spam? "
   ]
  },
  {
   "cell_type": "code",
   "execution_count": 33,
   "metadata": {},
   "outputs": [
    {
     "name": "stdout",
     "output_type": "stream",
     "text": [
      "=> Média do número de dígitos em documentos que são SPAM: 15.76\n"
     ]
    },
    {
     "data": {
      "text/html": [
       "<div>\n",
       "<style scoped>\n",
       "    .dataframe tbody tr th:only-of-type {\n",
       "        vertical-align: middle;\n",
       "    }\n",
       "\n",
       "    .dataframe tbody tr th {\n",
       "        vertical-align: top;\n",
       "    }\n",
       "\n",
       "    .dataframe thead th {\n",
       "        text-align: right;\n",
       "    }\n",
       "</style>\n",
       "<table border=\"1\" class=\"dataframe\">\n",
       "  <thead>\n",
       "    <tr style=\"text-align: right;\">\n",
       "      <th></th>\n",
       "      <th>count</th>\n",
       "      <th>mean</th>\n",
       "      <th>std</th>\n",
       "      <th>min</th>\n",
       "      <th>25%</th>\n",
       "      <th>50%</th>\n",
       "      <th>75%</th>\n",
       "      <th>max</th>\n",
       "    </tr>\n",
       "  </thead>\n",
       "  <tbody>\n",
       "    <tr>\n",
       "      <td>digits</td>\n",
       "      <td>747.0</td>\n",
       "      <td>15.759036</td>\n",
       "      <td>8.755896</td>\n",
       "      <td>0.0</td>\n",
       "      <td>10.0</td>\n",
       "      <td>16.0</td>\n",
       "      <td>22.0</td>\n",
       "      <td>47.0</td>\n",
       "    </tr>\n",
       "  </tbody>\n",
       "</table>\n",
       "</div>"
      ],
      "text/plain": [
       "        count       mean       std  min   25%   50%   75%   max\n",
       "digits  747.0  15.759036  8.755896  0.0  10.0  16.0  22.0  47.0"
      ]
     },
     "execution_count": 33,
     "metadata": {},
     "output_type": "execute_result"
    }
   ],
   "source": [
    "df = feature_stats(spam_data, DIGITS, spam=1)\n",
    "print('=> Média do número de dígitos em documentos que são SPAM: {:.2f}'.format(df.loc[DIGITS,'mean']))\n",
    "df"
   ]
  },
  {
   "cell_type": "code",
   "execution_count": 34,
   "metadata": {},
   "outputs": [
    {
     "name": "stdout",
     "output_type": "stream",
     "text": [
      "=> Média do número de dígitos em documentos que NÃO são SPAM: 0.30\n"
     ]
    },
    {
     "data": {
      "text/html": [
       "<div>\n",
       "<style scoped>\n",
       "    .dataframe tbody tr th:only-of-type {\n",
       "        vertical-align: middle;\n",
       "    }\n",
       "\n",
       "    .dataframe tbody tr th {\n",
       "        vertical-align: top;\n",
       "    }\n",
       "\n",
       "    .dataframe thead th {\n",
       "        text-align: right;\n",
       "    }\n",
       "</style>\n",
       "<table border=\"1\" class=\"dataframe\">\n",
       "  <thead>\n",
       "    <tr style=\"text-align: right;\">\n",
       "      <th></th>\n",
       "      <th>count</th>\n",
       "      <th>mean</th>\n",
       "      <th>std</th>\n",
       "      <th>min</th>\n",
       "      <th>25%</th>\n",
       "      <th>50%</th>\n",
       "      <th>75%</th>\n",
       "      <th>max</th>\n",
       "    </tr>\n",
       "  </thead>\n",
       "  <tbody>\n",
       "    <tr>\n",
       "      <td>digits</td>\n",
       "      <td>4825.0</td>\n",
       "      <td>0.299275</td>\n",
       "      <td>1.063086</td>\n",
       "      <td>0.0</td>\n",
       "      <td>0.0</td>\n",
       "      <td>0.0</td>\n",
       "      <td>0.0</td>\n",
       "      <td>23.0</td>\n",
       "    </tr>\n",
       "  </tbody>\n",
       "</table>\n",
       "</div>"
      ],
      "text/plain": [
       "         count      mean       std  min  25%  50%  75%   max\n",
       "digits  4825.0  0.299275  1.063086  0.0  0.0  0.0  0.0  23.0"
      ]
     },
     "execution_count": 34,
     "metadata": {},
     "output_type": "execute_result"
    }
   ],
   "source": [
    "df = feature_stats(spam_data, DIGITS, spam=0)\n",
    "print('=> Média do número de dígitos em documentos que NÃO são SPAM: {:.2f}'.format(df.loc[DIGITS,'mean']))\n",
    "df"
   ]
  },
  {
   "cell_type": "markdown",
   "metadata": {},
   "source": [
    "## Utilize o vetorizador Tf-idf nos dados de treinamento, ignorando termos menor que 5 e utilize unigramas, bigramas e trigramas."
   ]
  },
  {
   "cell_type": "code",
   "execution_count": 35,
   "metadata": {},
   "outputs": [
    {
     "name": "stdout",
     "output_type": "stream",
     "text": [
      "(4179, 26353) (1393, 26353)\n"
     ]
    }
   ],
   "source": [
    "tfidf_vectorizer = TfidfVectorizer(token_pattern=r\"(?u)\\b\\w\\w\\w\\w\\w+\\b\", ngram_range=(1,3))\n",
    "tfidf_matrix =  tfidf_vectorizer.fit_transform(X_train)\n",
    "tfidf_test = tfidf_vectorizer.transform(X_test)\n",
    "print(tfidf_matrix.shape, tfidf_test.shape)"
   ]
  },
  {
   "cell_type": "markdown",
   "metadata": {},
   "source": [
    "##  Usando essa matriz de termos de documento e duas características adicionais (o comprimento do documento e o número médio de dígitos por documento) treine um modelo de regressão logística, e em seguida, calcule a AUC usando os dados de teste. Avalie com diferentes valores para o parâmetro de regularização C e descreva brevemente como esse parâmetro se comporta no modelo."
   ]
  },
  {
   "cell_type": "code",
   "execution_count": 36,
   "metadata": {},
   "outputs": [],
   "source": [
    "digits_train, digits_test = train_test_split(spam_data.digits, random_state=0)\n",
    "\n",
    "train_features = hstack((tfidf_matrix, docsize_train.to_numpy()[:, None], digits_train.to_numpy()[:, None]))\n",
    "test_features = hstack((tfidf_test, docsize_test.to_numpy()[:, None], digits_test.to_numpy()[:, None]))"
   ]
  },
  {
   "cell_type": "code",
   "execution_count": 37,
   "metadata": {},
   "outputs": [],
   "source": [
    "lr_model = LogisticRegression(solver='liblinear')\n",
    "lr_model.fit(train_features, y_train)\n",
    "probs = lr_model.predict_proba(test_features)[:,1]"
   ]
  },
  {
   "cell_type": "code",
   "execution_count": 38,
   "metadata": {},
   "outputs": [
    {
     "data": {
      "image/png": "[encoded data removed]",
      "text/plain": [
       "<Figure size 864x432 with 1 Axes>"
      ]
     },
     "metadata": {
      "needs_background": "light"
     },
     "output_type": "display_data"
    },
    {
     "name": "stdout",
     "output_type": "stream",
     "text": [
      "AUC: 0.9871950494881415\n"
     ]
    }
   ],
   "source": [
    "print(\"AUC:\", plot_roc_auc(y_test, probs))"
   ]
  },
  {
   "cell_type": "code",
   "execution_count": 39,
   "metadata": {},
   "outputs": [
    {
     "name": "stdout",
     "output_type": "stream",
     "text": [
      "# Tuning hyper-parameters for roc_auc\n",
      "\n",
      "Best parameters set found on development set:\n",
      "\n",
      "{'C': 100.00000000000001}\n",
      "\n",
      "Grid scores on development set:\n",
      "\n",
      "0.347 (+/-0.056) for {'C': 1e-05}\n",
      "0.804 (+/-0.058) for {'C': 0.0001}\n",
      "0.860 (+/-0.054) for {'C': 0.001}\n",
      "0.911 (+/-0.042) for {'C': 0.01}\n",
      "0.959 (+/-0.035) for {'C': 0.1}\n",
      "0.985 (+/-0.010) for {'C': 1.0}\n",
      "0.989 (+/-0.010) for {'C': 10.0}\n",
      "0.990 (+/-0.010) for {'C': 100.00000000000001}\n",
      "0.990 (+/-0.010) for {'C': 1000.0000000000001}\n",
      "0.990 (+/-0.010) for {'C': 10000.0}\n",
      "\n",
      "Detailed classification report:\n",
      "\n",
      "The model is trained on the full development set.\n",
      "The scores are computed on the full evaluation set.\n",
      "\n",
      "              precision    recall  f1-score   support\n",
      "\n",
      "           0       0.98      0.99      0.99      1196\n",
      "           1       0.97      0.88      0.92       197\n",
      "\n",
      "    accuracy                           0.98      1393\n",
      "   macro avg       0.97      0.94      0.96      1393\n",
      "weighted avg       0.98      0.98      0.98      1393\n",
      "\n",
      "\n"
     ]
    }
   ],
   "source": [
    "tune_parameters(train_features, y_train, test_features, y_test, \n",
    "                {'C':[0.00001*10**v for v in range(10)]}, \n",
    "                lr_model)"
   ]
  },
  {
   "cell_type": "markdown",
   "metadata": {},
   "source": [
    "=>"
   ]
  },
  {
   "cell_type": "markdown",
   "metadata": {},
   "source": [
    "## g) Qual é o número médio de caracteres que não são palavras (tudo que não é uma letra, dígito ou underscore) por documento para documentos não-spam e documentos spam? Dica: use as classes de caracteres \\w e \\W do pacote re (regular expressions). "
   ]
  },
  {
   "cell_type": "code",
   "execution_count": 40,
   "metadata": {},
   "outputs": [
    {
     "name": "stdout",
     "output_type": "stream",
     "text": [
      "=> Média de caracteres que não são palavras, por documento, para documentos que são SPAM: 29.04\n"
     ]
    },
    {
     "data": {
      "text/html": [
       "<div>\n",
       "<style scoped>\n",
       "    .dataframe tbody tr th:only-of-type {\n",
       "        vertical-align: middle;\n",
       "    }\n",
       "\n",
       "    .dataframe tbody tr th {\n",
       "        vertical-align: top;\n",
       "    }\n",
       "\n",
       "    .dataframe thead th {\n",
       "        text-align: right;\n",
       "    }\n",
       "</style>\n",
       "<table border=\"1\" class=\"dataframe\">\n",
       "  <thead>\n",
       "    <tr style=\"text-align: right;\">\n",
       "      <th></th>\n",
       "      <th>count</th>\n",
       "      <th>mean</th>\n",
       "      <th>std</th>\n",
       "      <th>min</th>\n",
       "      <th>25%</th>\n",
       "      <th>50%</th>\n",
       "      <th>75%</th>\n",
       "      <th>max</th>\n",
       "    </tr>\n",
       "  </thead>\n",
       "  <tbody>\n",
       "    <tr>\n",
       "      <td>not_words</td>\n",
       "      <td>747.0</td>\n",
       "      <td>29.041499</td>\n",
       "      <td>7.319564</td>\n",
       "      <td>1.0</td>\n",
       "      <td>27.0</td>\n",
       "      <td>30.0</td>\n",
       "      <td>34.0</td>\n",
       "      <td>50.0</td>\n",
       "    </tr>\n",
       "  </tbody>\n",
       "</table>\n",
       "</div>"
      ],
      "text/plain": [
       "           count       mean       std  min   25%   50%   75%   max\n",
       "not_words  747.0  29.041499  7.319564  1.0  27.0  30.0  34.0  50.0"
      ]
     },
     "execution_count": 40,
     "metadata": {},
     "output_type": "execute_result"
    }
   ],
   "source": [
    "df = feature_stats(spam_data, NOT_WORDS, spam=1)\n",
    "print('=> Média de caracteres que não são palavras, por documento, para documentos que são SPAM: {:.2f}'.format(\n",
    "      df.loc[NOT_WORDS,'mean']))\n",
    "df"
   ]
  },
  {
   "cell_type": "code",
   "execution_count": 41,
   "metadata": {},
   "outputs": [
    {
     "name": "stdout",
     "output_type": "stream",
     "text": [
      "=> Média de caracteres que não são palavras, por documento, para documentos que NÃO são SPAM: 17.29\n"
     ]
    },
    {
     "data": {
      "text/html": [
       "<div>\n",
       "<style scoped>\n",
       "    .dataframe tbody tr th:only-of-type {\n",
       "        vertical-align: middle;\n",
       "    }\n",
       "\n",
       "    .dataframe tbody tr th {\n",
       "        vertical-align: top;\n",
       "    }\n",
       "\n",
       "    .dataframe thead th {\n",
       "        text-align: right;\n",
       "    }\n",
       "</style>\n",
       "<table border=\"1\" class=\"dataframe\">\n",
       "  <thead>\n",
       "    <tr style=\"text-align: right;\">\n",
       "      <th></th>\n",
       "      <th>count</th>\n",
       "      <th>mean</th>\n",
       "      <th>std</th>\n",
       "      <th>min</th>\n",
       "      <th>25%</th>\n",
       "      <th>50%</th>\n",
       "      <th>75%</th>\n",
       "      <th>max</th>\n",
       "    </tr>\n",
       "  </thead>\n",
       "  <tbody>\n",
       "    <tr>\n",
       "      <td>not_words</td>\n",
       "      <td>4825.0</td>\n",
       "      <td>17.291813</td>\n",
       "      <td>14.990677</td>\n",
       "      <td>0.0</td>\n",
       "      <td>8.0</td>\n",
       "      <td>13.0</td>\n",
       "      <td>22.0</td>\n",
       "      <td>253.0</td>\n",
       "    </tr>\n",
       "  </tbody>\n",
       "</table>\n",
       "</div>"
      ],
      "text/plain": [
       "            count       mean        std  min  25%   50%   75%    max\n",
       "not_words  4825.0  17.291813  14.990677  0.0  8.0  13.0  22.0  253.0"
      ]
     },
     "execution_count": 41,
     "metadata": {},
     "output_type": "execute_result"
    }
   ],
   "source": [
    "df = feature_stats(spam_data, NOT_WORDS, spam=0)\n",
    "print('=> Média de caracteres que não são palavras, por documento, para documentos que NÃO são SPAM: {:.2f}'.format(\n",
    "      df.loc[NOT_WORDS,'mean']))\n",
    "df"
   ]
  },
  {
   "cell_type": "markdown",
   "metadata": {},
   "source": [
    "## Utilize o vetorizador CountVectorizer nos dados de treinamento, ignorando termos menor que 5 e utilize unigramas, bigramas e trigramas. "
   ]
  },
  {
   "cell_type": "code",
   "execution_count": 42,
   "metadata": {},
   "outputs": [
    {
     "data": {
      "text/plain": [
       "(4179, 22661)"
      ]
     },
     "execution_count": 42,
     "metadata": {},
     "output_type": "execute_result"
    }
   ],
   "source": [
    "# O padrão de token utilizado como \"default\" ignora termos com tamanho menor ou igual a 2 caracteres. \n",
    "# Alterei este padrão para ignorar os termos com menos de 5 caracteres.\n",
    "token_pattern=r\"(?u)\\b\\w\\w\\w\\w\\w+\\b\"\n",
    "counter = CountVectorizer(stop_words='english', ngram_range=(1, 3), token_pattern=token_pattern)\n",
    "train_matrix = counter.fit_transform(X_train)\n",
    "train_matrix.shape"
   ]
  },
  {
   "cell_type": "markdown",
   "metadata": {},
   "source": [
    "## Usando esta matriz de termos de documento e as seguintes características adicionais: o comprimento do documento, número de dígitos por documento, e o número de caracteres que não são palavras (tudo que não é uma letra, dígito ou underscore), treine um modelo de regressão logística, e em seguida, calcule a AUC usando os dados de teste. Avalie com diferentes valores para o parâmetro de regularização C e descreva brevemente como esse parâmetro se comporta no modelo. "
   ]
  },
  {
   "cell_type": "code",
   "execution_count": 43,
   "metadata": {},
   "outputs": [],
   "source": [
    "not_words_train, not_words_test = train_test_split(spam_data.not_words, random_state=0)\n",
    "\n",
    "# Transformação equivalente sobre os dados de teste para conseguirmos usar os mesmos tokens como features\n",
    "test_matrix = counter.transform(X_test)\n",
    "\n",
    "train_features = hstack((train_matrix, docsize_train.to_numpy()[:, None], \n",
    "                         digits_train.to_numpy()[:, None],\n",
    "                        not_words_train.to_numpy()[:, None]))\n",
    "test_features = hstack((test_matrix, docsize_test.to_numpy()[:, None], \n",
    "                        digits_test.to_numpy()[:, None],\n",
    "                       not_words_test.to_numpy()[:, None]))"
   ]
  },
  {
   "cell_type": "code",
   "execution_count": 44,
   "metadata": {},
   "outputs": [],
   "source": [
    "lr_model = LogisticRegression(random_state=0, solver='liblinear', C=1.0)\n",
    "lr_model.fit(train_features, y_train)\n",
    "probs = lr_model.predict_proba(test_features)[:, 1]"
   ]
  },
  {
   "cell_type": "code",
   "execution_count": 45,
   "metadata": {},
   "outputs": [
    {
     "data": {
      "image/png": "[encoded data removed]",
      "text/plain": [
       "<Figure size 864x432 with 1 Axes>"
      ]
     },
     "metadata": {
      "needs_background": "light"
     },
     "output_type": "display_data"
    },
    {
     "name": "stdout",
     "output_type": "stream",
     "text": [
      "AUC: 0.9959764358351867\n"
     ]
    }
   ],
   "source": [
    "auc_value = plot_roc_auc(y_test, probs)\n",
    "print(\"AUC:\", auc_value)"
   ]
  },
  {
   "cell_type": "code",
   "execution_count": 46,
   "metadata": {},
   "outputs": [
    {
     "name": "stdout",
     "output_type": "stream",
     "text": [
      "# Tuning hyper-parameters for roc_auc\n",
      "\n",
      "Best parameters set found on development set:\n",
      "\n",
      "{'C': 10.0}\n",
      "\n",
      "Grid scores on development set:\n",
      "\n",
      "0.370 (+/-0.059) for {'C': 1e-05}\n",
      "0.816 (+/-0.062) for {'C': 0.0001}\n",
      "0.870 (+/-0.055) for {'C': 0.001}\n",
      "0.927 (+/-0.049) for {'C': 0.01}\n",
      "0.981 (+/-0.022) for {'C': 0.1}\n",
      "0.992 (+/-0.011) for {'C': 1.0}\n",
      "0.993 (+/-0.010) for {'C': 10.0}\n",
      "0.993 (+/-0.010) for {'C': 100.00000000000001}\n",
      "0.992 (+/-0.010) for {'C': 1000.0000000000001}\n",
      "0.992 (+/-0.010) for {'C': 10000.0}\n",
      "\n",
      "Detailed classification report:\n",
      "\n",
      "The model is trained on the full development set.\n",
      "The scores are computed on the full evaluation set.\n",
      "\n",
      "              precision    recall  f1-score   support\n",
      "\n",
      "           0       0.98      1.00      0.99      1196\n",
      "           1       0.98      0.90      0.94       197\n",
      "\n",
      "    accuracy                           0.98      1393\n",
      "   macro avg       0.98      0.95      0.96      1393\n",
      "weighted avg       0.98      0.98      0.98      1393\n",
      "\n",
      "\n"
     ]
    }
   ],
   "source": [
    "tune_parameters(train_features, y_train, test_features, y_test, \n",
    "                {'C':[0.00001*10**v for v in range(10)]}, \n",
    "                lr_model)"
   ]
  },
  {
   "cell_type": "markdown",
   "metadata": {},
   "source": [
    "=> O modelo apresenta os melhores resultados segundo a métrica AUC quando o hiperparâmetro de regularização C tem o valor entre 10 e 100. Valores ainda mais altos não prejudicaram muito o desempenho do modelo, porém valores abaixo de 0.1 apresentaram significativa perda da área abaixo da curva ROC, consequentemente, desequilibrando as taxas de falsos positivos e sensitividade do modelo para níveis mais baixos."
   ]
  },
  {
   "cell_type": "code",
   "execution_count": 47,
   "metadata": {},
   "outputs": [
    {
     "data": {
      "image/png": "[encoded data removed]",
      "text/plain": [
       "<Figure size 864x432 with 1 Axes>"
      ]
     },
     "metadata": {
      "needs_background": "light"
     },
     "output_type": "display_data"
    }
   ],
   "source": [
    "C_parameters = [0.00001*10**v for v in range(10)]\n",
    "models = [LogisticRegression(solver='liblinear', C=c_parameter) for c_parameter in C_parameters]\n",
    "\n",
    "fpr_array = []\n",
    "tpr_array  = []\n",
    "plt.figure(figsize=(12,6))\n",
    "for model in models:\n",
    "    model.fit(train_features, y_train)\n",
    "    probs = model.predict_proba(test_features)[:, 1]\n",
    "    fpr, tpr, threshold = metrics.roc_curve(y_test, probs)\n",
    "    fpr_array.append(fpr)\n",
    "    tpr_array.append(tpr)\n",
    "    roc_auc = metrics.roc_auc_score(y_test, probs)\n",
    "    plt.plot(fpr, tpr, label = 'C = {:.4f} AUC = {:.3f}'.format(model.C, roc_auc))\n",
    "\n",
    "plt.title('Receiver Operating Characteristic')\n",
    "plt.legend(loc = 'lower right')\n",
    "plt.plot([0, 1], [0, 1],'r--')\n",
    "plt.ylabel('True Positive Rate')\n",
    "plt.xlabel('False Positive Rate')\n",
    "plt.show()"
   ]
  },
  {
   "cell_type": "markdown",
   "metadata": {},
   "source": [
    "## Encontre os 10 menores e os 10 maiores coeficientes do modelo e retorne-os juntamente com a pontuação da AUC em uma tupla. A lista dos 10 menores coeficientes deve ser classificada de forma crescente, a lista dos 10 maiores coeficientes de forma decrescente."
   ]
  },
  {
   "cell_type": "code",
   "execution_count": 48,
   "metadata": {},
   "outputs": [],
   "source": [
    "sorted_coefs = np.sort(lr_model.coef_.flatten())\n",
    "lowest_coefs = sorted_coefs[:10]\n",
    "highest_coefs = sorted_coefs[::-1][:10]"
   ]
  },
  {
   "cell_type": "code",
   "execution_count": 49,
   "metadata": {},
   "outputs": [
    {
     "name": "stdout",
     "output_type": "stream",
     "text": [
      "=> Menores coeficientes:\n",
      " (array([-1.13821354, -0.9700185 , -0.9700185 , -0.9700185 , -0.9700185 ,\n",
      "       -0.9700185 , -0.87911685, -0.49404817, -0.48943171, -0.47523942]), 0.9959764358351867)\n",
      "=> Maiores coeficientes:\n",
      " (array([1.6198418 , 1.2628606 , 1.23143781, 1.20996881, 1.19789066,\n",
      "       1.08095266, 0.91608317, 0.91608317, 0.91608317, 0.90411889]), 0.9959764358351867)\n"
     ]
    }
   ],
   "source": [
    "print(\"=> Menores coeficientes:\\n\", (lowest_coefs, auc_value))\n",
    "print(\"=> Maiores coeficientes:\\n\", (highest_coefs, auc_value))"
   ]
  },
  {
   "cell_type": "markdown",
   "metadata": {},
   "source": [
    "--------------------------------------------"
   ]
  },
  {
   "cell_type": "markdown",
   "metadata": {},
   "source": [
    "### Questão 2\n",
    "\n",
    "Objetivo: Modelagem de Tópicos\n",
    "\n",
    "a) Estimar os parâmetros do modelo LDA no corpus e salvar na variável ldamodel. Extrair 10 tópicos usando corpus e id_map, com os parâmetros 'passes' = 25 e 'random_state' = 35.\n",
    "\n",
    "b) Usando ldamodel, encontre uma lista dos 10 tópicos e das 10 palavras mais significativas em cada tópico. Isso deve ser estruturado como uma lista de 10 tuplas.\n",
    "\n",
    "c) Baseando-se na seguinte lista de tópicos, relacione com os tópicos encontrados pelo algoritmo gensim no corpus. A lista de tópicos pode ser estendida por vocês.\n",
    "\n",
    "    Tópicos:\n",
    "    Saúde, Ciência, Automóveis, Política, Governo, Viagem,\n",
    "    Computadores e TI, Esportes, Negócios, Sociedade e\n",
    "    Estilo de vida, Religião, Educação."
   ]
  },
  {
   "cell_type": "code",
   "execution_count": 50,
   "metadata": {},
   "outputs": [],
   "source": [
    "import pickle\n",
    "import gensim\n",
    "from sklearn.feature_extraction.text import CountVectorizer\n",
    "\n",
    "with open(os.path.join(DATA_DIR, NEWS_FILE), 'rb') as f:\n",
    "    newsgroup_data = pickle.load(f)\n",
    "\n",
    "vect = CountVectorizer(min_df=20, max_df=0.2, stop_words='english', \n",
    "                       token_pattern='(?u)\\\\b\\\\w\\\\w\\\\w+\\\\b')\n",
    "X = vect.fit_transform(newsgroup_data)\n",
    "\n",
    "corpus = gensim.matutils.Sparse2Corpus(X, documents_columns=False)\n",
    "\n",
    "id_map = dict((v, k) for k, v in vect.vocabulary_.items())"
   ]
  },
  {
   "cell_type": "code",
   "execution_count": 51,
   "metadata": {},
   "outputs": [],
   "source": [
    "from gensim.corpora.dictionary import Dictionary\n",
    "\n",
    "dictionary = Dictionary.from_corpus(corpus,\n",
    "                                    id2word=id_map)"
   ]
  },
  {
   "cell_type": "markdown",
   "metadata": {},
   "source": [
    "## a) Estimar os parâmetros do modelo LDA no corpus e salvar na variável ldamodel. Extrair 10 tópicos usando corpus e id_map, com os parâmetros 'passes' = 25 e 'random_state' = 35."
   ]
  },
  {
   "cell_type": "code",
   "execution_count": 52,
   "metadata": {},
   "outputs": [],
   "source": [
    "lda_model = gensim.models.LdaModel(corpus, num_topics=10, passes=25, random_state=35, id2word=id_map)"
   ]
  },
  {
   "cell_type": "code",
   "execution_count": 53,
   "metadata": {},
   "outputs": [
    {
     "name": "stdout",
     "output_type": "stream",
     "text": [
      "[(0,\n",
      "  '0.043*\"edu\" + 0.042*\"space\" + 0.032*\"com\" + 0.025*\"data\" + 0.025*\"nasa\" + '\n",
      "  '0.018*\"information\" + 0.016*\"center\" + 0.014*\"research\" + 0.014*\"available\" '\n",
      "  '+ 0.013*\"university\"'),\n",
      " (1,\n",
      "  '0.018*\"just\" + 0.016*\"car\" + 0.013*\"bike\" + 0.011*\"time\" + 0.011*\"don\" + '\n",
      "  '0.011*\"ground\" + 0.011*\"know\" + 0.010*\"good\" + 0.009*\"way\" + 0.009*\"used\"'),\n",
      " (2,\n",
      "  '0.022*\"people\" + 0.017*\"don\" + 0.015*\"think\" + 0.015*\"god\" + 0.013*\"just\" + '\n",
      "  '0.012*\"does\" + 0.012*\"say\" + 0.011*\"know\" + 0.008*\"time\" + 0.008*\"way\"'),\n",
      " (3,\n",
      "  '0.022*\"don\" + 0.016*\"doctor\" + 0.014*\"edu\" + 0.013*\"just\" + 0.012*\"blood\" + '\n",
      "  '0.012*\"pitt\" + 0.012*\"gordon\" + 0.012*\"soon\" + 0.012*\"banks\" + '\n",
      "  '0.011*\"years\"'),\n",
      " (4,\n",
      "  '0.060*\"disk\" + 0.057*\"drive\" + 0.044*\"drives\" + 0.043*\"controller\" + '\n",
      "  '0.037*\"hard\" + 0.032*\"rom\" + 0.030*\"card\" + 0.029*\"floppy\" + 0.028*\"period\" '\n",
      "  '+ 0.020*\"power\"'),\n",
      " (5,\n",
      "  '0.021*\"does\" + 0.019*\"use\" + 0.018*\"thanks\" + 0.015*\"know\" + 0.015*\"just\" + '\n",
      "  '0.014*\"apple\" + 0.012*\"card\" + 0.010*\"monitor\" + 0.010*\"good\" + '\n",
      "  '0.009*\"help\"'),\n",
      " (6,\n",
      "  '0.024*\"game\" + 0.024*\"year\" + 0.021*\"team\" + 0.014*\"good\" + 0.014*\"games\" + '\n",
      "  '0.012*\"don\" + 0.011*\"play\" + 0.011*\"think\" + 0.010*\"got\" + 0.010*\"season\"'),\n",
      " (7,\n",
      "  '0.048*\"000\" + 0.034*\"100\" + 0.028*\"200\" + 0.022*\"500\" + 0.021*\"300\" + '\n",
      "  '0.020*\"400\" + 0.018*\"800\" + 0.017*\"break\" + 0.014*\"time\" + 0.011*\"models\"'),\n",
      " (8,\n",
      "  '0.034*\"drive\" + 0.032*\"power\" + 0.030*\"scsi\" + 0.021*\"use\" + 0.018*\"cable\" '\n",
      "  '+ 0.015*\"problem\" + 0.013*\"bit\" + 0.013*\"port\" + 0.013*\"time\" + '\n",
      "  '0.013*\"need\"'),\n",
      " (9,\n",
      "  '0.015*\"edu\" + 0.014*\"car\" + 0.012*\"don\" + 0.012*\"list\" + 0.010*\"mail\" + '\n",
      "  '0.009*\"faq\" + 0.009*\"article\" + 0.009*\"engine\" + 0.009*\"sci\" + 0.008*\"new\"')]\n"
     ]
    }
   ],
   "source": [
    "from pprint import pprint\n",
    "\n",
    "pprint(lda_model.print_topics())"
   ]
  },
  {
   "cell_type": "markdown",
   "metadata": {},
   "source": [
    "## b) Usando ldamodel, encontre uma lista dos 10 tópicos e das 10 palavras mais significativas em cada tópico. Isso deve ser estruturado como uma lista de 10 tuplas."
   ]
  },
  {
   "cell_type": "code",
   "execution_count": 54,
   "metadata": {},
   "outputs": [
    {
     "data": {
      "text/plain": [
       "[(0, '0.043*\"edu\"'),\n",
       " (1, '0.018*\"just\"'),\n",
       " (2, '0.022*\"people\"'),\n",
       " (3, '0.022*\"don\"'),\n",
       " (4, '0.060*\"disk\"'),\n",
       " (5, '0.021*\"does\"'),\n",
       " (6, '0.024*\"game\"'),\n",
       " (7, '0.048*\"000\"'),\n",
       " (8, '0.034*\"drive\"'),\n",
       " (9, '0.015*\"edu\"')]"
      ]
     },
     "execution_count": 54,
     "metadata": {},
     "output_type": "execute_result"
    }
   ],
   "source": [
    "lda_model.print_topics(num_words=1)"
   ]
  },
  {
   "cell_type": "markdown",
   "metadata": {},
   "source": [
    "## c) Baseando-se na seguinte lista de tópicos, relacione com os tópicos encontrados pelo algoritmo gensim no corpus. A lista de tópicos pode ser estendida por vocês."
   ]
  },
  {
   "cell_type": "code",
   "execution_count": 55,
   "metadata": {},
   "outputs": [],
   "source": [
    "subects=['Health',  'Medicine', 'Science', 'Planets', 'Automotive', 'Politics', 'Government', 'Travel',\n",
    "           'Computers and IT', 'Sports', 'Business', 'Society and Lifestyle', 'Religion', 'Education']"
   ]
  },
  {
   "cell_type": "code",
   "execution_count": 56,
   "metadata": {},
   "outputs": [
    {
     "name": "stdout",
     "output_type": "stream",
     "text": [
      "Health\n",
      "Topic most related: (3, 0.54995346)\n",
      "Topic description: \n",
      "('0.022*\"don\" + 0.016*\"doctor\" + 0.014*\"edu\" + 0.013*\"just\" + 0.012*\"blood\" + '\n",
      " '0.012*\"pitt\" + 0.012*\"gordon\" + 0.012*\"soon\" + 0.012*\"banks\" + 0.011*\"years\"')\n",
      "\n",
      "Medicine\n",
      "Topic most related: (3, 0.5499534)\n",
      "Topic description: \n",
      "('0.022*\"don\" + 0.016*\"doctor\" + 0.014*\"edu\" + 0.013*\"just\" + 0.012*\"blood\" + '\n",
      " '0.012*\"pitt\" + 0.012*\"gordon\" + 0.012*\"soon\" + 0.012*\"banks\" + 0.011*\"years\"')\n",
      "\n",
      "Science\n",
      "Topic most related: (0, 0.5499713)\n",
      "Topic description: \n",
      "('0.043*\"edu\" + 0.042*\"space\" + 0.032*\"com\" + 0.025*\"data\" + 0.025*\"nasa\" + '\n",
      " '0.018*\"information\" + 0.016*\"center\" + 0.014*\"research\" + 0.014*\"available\" '\n",
      " '+ 0.013*\"university\"')\n",
      "\n",
      "Planets\n",
      "Topic most related: (0, 0.1)\n",
      "Topic description: \n",
      "('0.043*\"edu\" + 0.042*\"space\" + 0.032*\"com\" + 0.025*\"data\" + 0.025*\"nasa\" + '\n",
      " '0.018*\"information\" + 0.016*\"center\" + 0.014*\"research\" + 0.014*\"available\" '\n",
      " '+ 0.013*\"university\"')\n",
      "\n",
      "Automotive\n",
      "Topic most related: (0, 0.1)\n",
      "Topic description: \n",
      "('0.043*\"edu\" + 0.042*\"space\" + 0.032*\"com\" + 0.025*\"data\" + 0.025*\"nasa\" + '\n",
      " '0.018*\"information\" + 0.016*\"center\" + 0.014*\"research\" + 0.014*\"available\" '\n",
      " '+ 0.013*\"university\"')\n",
      "\n",
      "Politics\n",
      "Topic most related: (0, 0.1)\n",
      "Topic description: \n",
      "('0.043*\"edu\" + 0.042*\"space\" + 0.032*\"com\" + 0.025*\"data\" + 0.025*\"nasa\" + '\n",
      " '0.018*\"information\" + 0.016*\"center\" + 0.014*\"research\" + 0.014*\"available\" '\n",
      " '+ 0.013*\"university\"')\n",
      "\n",
      "Government\n",
      "Topic most related: (2, 0.5499638)\n",
      "Topic description: \n",
      "('0.022*\"people\" + 0.017*\"don\" + 0.015*\"think\" + 0.015*\"god\" + 0.013*\"just\" + '\n",
      " '0.012*\"does\" + 0.012*\"say\" + 0.011*\"know\" + 0.008*\"time\" + 0.008*\"way\"')\n",
      "\n",
      "Travel\n",
      "Topic most related: (0, 0.1)\n",
      "Topic description: \n",
      "('0.043*\"edu\" + 0.042*\"space\" + 0.032*\"com\" + 0.025*\"data\" + 0.025*\"nasa\" + '\n",
      " '0.018*\"information\" + 0.016*\"center\" + 0.014*\"research\" + 0.014*\"available\" '\n",
      " '+ 0.013*\"university\"')\n",
      "\n",
      "Computers and IT\n",
      "Topic most related: (0, 0.1)\n",
      "Topic description: \n",
      "('0.043*\"edu\" + 0.042*\"space\" + 0.032*\"com\" + 0.025*\"data\" + 0.025*\"nasa\" + '\n",
      " '0.018*\"information\" + 0.016*\"center\" + 0.014*\"research\" + 0.014*\"available\" '\n",
      " '+ 0.013*\"university\"')\n",
      "\n",
      "Sports\n",
      "Topic most related: (6, 0.5499779)\n",
      "Topic description: \n",
      "('0.024*\"game\" + 0.024*\"year\" + 0.021*\"team\" + 0.014*\"good\" + 0.014*\"games\" + '\n",
      " '0.012*\"don\" + 0.011*\"play\" + 0.011*\"think\" + 0.010*\"got\" + 0.010*\"season\"')\n",
      "\n",
      "Business\n",
      "Topic most related: (3, 0.5499421)\n",
      "Topic description: \n",
      "('0.022*\"don\" + 0.016*\"doctor\" + 0.014*\"edu\" + 0.013*\"just\" + 0.012*\"blood\" + '\n",
      " '0.012*\"pitt\" + 0.012*\"gordon\" + 0.012*\"soon\" + 0.012*\"banks\" + 0.011*\"years\"')\n",
      "\n",
      "Society and Lifestyle\n",
      "Topic most related: (0, 0.5499439)\n",
      "Topic description: \n",
      "('0.043*\"edu\" + 0.042*\"space\" + 0.032*\"com\" + 0.025*\"data\" + 0.025*\"nasa\" + '\n",
      " '0.018*\"information\" + 0.016*\"center\" + 0.014*\"research\" + 0.014*\"available\" '\n",
      " '+ 0.013*\"university\"')\n",
      "\n",
      "Religion\n",
      "Topic most related: (2, 0.54998684)\n",
      "Topic description: \n",
      "('0.022*\"people\" + 0.017*\"don\" + 0.015*\"think\" + 0.015*\"god\" + 0.013*\"just\" + '\n",
      " '0.012*\"does\" + 0.012*\"say\" + 0.011*\"know\" + 0.008*\"time\" + 0.008*\"way\"')\n",
      "\n",
      "Education\n",
      "Topic most related: (0, 0.1)\n",
      "Topic description: \n",
      "('0.043*\"edu\" + 0.042*\"space\" + 0.032*\"com\" + 0.025*\"data\" + 0.025*\"nasa\" + '\n",
      " '0.018*\"information\" + 0.016*\"center\" + 0.014*\"research\" + 0.014*\"available\" '\n",
      " '+ 0.013*\"university\"')\n",
      "\n"
     ]
    }
   ],
   "source": [
    "for subj in subects:\n",
    "    vec_bow = dictionary.doc2bow(subj.lower().split())\n",
    "    vec_lda = lda_model[vec_bow]\n",
    "    most_related_topic = sorted(vec_lda, key=lambda x: x[1], reverse=True)[0]\n",
    "    print(\"{}\\nTopic most related: {}\".format(subj, most_related_topic))\n",
    "    print(\"Topic description: \")\n",
    "    pprint(lda_model.print_topic(most_related_topic[0]))\n",
    "    print()"
   ]
  },
  {
   "cell_type": "code",
   "execution_count": null,
   "metadata": {},
   "outputs": [],
   "source": []
  }
 ],
 "metadata": {
  "coursera": {
   "course_slug": "python-text-mining",
   "graded_item_id": "Pn19K",
   "launcher_item_id": "y1juS",
   "part_id": "ctlgo"
  },
  "kernelspec": {
   "display_name": "Python 3",
   "language": "python",
   "name": "python3"
  },
  "language_info": {
   "codemirror_mode": {
    "name": "ipython",
    "version": 3
   },
   "file_extension": ".py",
   "mimetype": "text/x-python",
   "name": "python",
   "nbconvert_exporter": "python",
   "pygments_lexer": "ipython3",
   "version": "3.7.3"
  }
 },
 "nbformat": 4,
 "nbformat_minor": 2
}
