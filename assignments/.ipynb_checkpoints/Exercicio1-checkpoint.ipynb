{
 "cells": [
  {
   "cell_type": "markdown",
   "metadata": {},
   "source": [
    "Pare esse exercício serão disponibilizados três arquivos: ***amazonas.csv*** que contém dados históricos de desflorestamento nos municipios do Amazonas no ano de 2014, ***estados.csv*** que contém uma lista com o nome, uf e codigo dos estados brasileiros e ***municipios.csv*** que contém o nome de todos os municípios brasileiros e suas respectivas localizações no globo (longitude e latitude).\n",
    "\n",
    "O objetivo do exercício é gerar um relatório sobre o desflorestamento nos municípios do Amazonas com a visualização dos dados sobre o mapa do Brasil.\n",
    "Para isso será necessário relacionar ambas as três tabelas de forma que seja associado a posição geográfica (longitude e latitude) dos municípios aos dados de desflorestamento.\n"
   ]
  },
  {
   "cell_type": "code",
   "execution_count": 1,
   "metadata": {},
   "outputs": [],
   "source": [
    "import matplotlib.pyplot as plt\n",
    "import pandas as pd\n",
    "import numpy as np\n",
    "#biblioteca para plotar no mapa\n",
    "import mplleaflet"
   ]
  },
  {
   "cell_type": "code",
   "execution_count": 2,
   "metadata": {},
   "outputs": [],
   "source": [
    "# Aditional packages\n",
    "import os"
   ]
  },
  {
   "cell_type": "code",
   "execution_count": 31,
   "metadata": {},
   "outputs": [],
   "source": [
    "# Important directories and other constants\n",
    "DATA_DIR = 'data'\n",
    "AMAZONAS = 'amazonas.csv'\n",
    "STATES = 'estados.csv'\n",
    "CITIES = 'municipios.csv'\n",
    "\n",
    "DESFLORESTAMENTO = 'Desflorestamento Relativo'\n",
    "MINERACAO = 'Mineração'\n",
    "SCALE_FACTOR = 30 # empiric scale factor"
   ]
  },
  {
   "cell_type": "code",
   "execution_count": 4,
   "metadata": {},
   "outputs": [],
   "source": [
    "#começaremos importando todas as tabelas\n",
    "df_amazonas = pd.read_csv(os.path.join(DATA_DIR, AMAZONAS))\n",
    "df_states = pd.read_csv(os.path.join(DATA_DIR, STATES))\n",
    "df_cities = pd.read_csv(os.path.join(DATA_DIR, CITIES))"
   ]
  },
  {
   "cell_type": "markdown",
   "metadata": {},
   "source": [
    "Vamos da uma olhada no jeito de cada tabela"
   ]
  },
  {
   "cell_type": "code",
   "execution_count": 5,
   "metadata": {},
   "outputs": [
    {
     "data": {
      "text/html": [
       "<div>\n",
       "<style scoped>\n",
       "    .dataframe tbody tr th:only-of-type {\n",
       "        vertical-align: middle;\n",
       "    }\n",
       "\n",
       "    .dataframe tbody tr th {\n",
       "        vertical-align: top;\n",
       "    }\n",
       "\n",
       "    .dataframe thead th {\n",
       "        text-align: right;\n",
       "    }\n",
       "</style>\n",
       "<table border=\"1\" class=\"dataframe\">\n",
       "  <thead>\n",
       "    <tr style=\"text-align: right;\">\n",
       "      <th></th>\n",
       "      <th>Municípios</th>\n",
       "      <th>Agricultura Anual</th>\n",
       "      <th>Área não Observada</th>\n",
       "      <th>Área Urbana</th>\n",
       "      <th>Desflorestamento 2014</th>\n",
       "      <th>Floresta</th>\n",
       "      <th>Hidrografia</th>\n",
       "      <th>Mineração</th>\n",
       "      <th>Mosaico de Ocupações</th>\n",
       "      <th>Não Floresta</th>\n",
       "      <th>Outros</th>\n",
       "      <th>Pasto com Solo Exposto</th>\n",
       "      <th>Pasto Limpo</th>\n",
       "      <th>Pasto Sujo</th>\n",
       "      <th>Reflorestamento</th>\n",
       "      <th>Regeneração com Pasto</th>\n",
       "      <th>Vegetação Secundária</th>\n",
       "      <th>Total Geral</th>\n",
       "    </tr>\n",
       "  </thead>\n",
       "  <tbody>\n",
       "    <tr>\n",
       "      <td>0</td>\n",
       "      <td>Alvaraes</td>\n",
       "      <td>NaN</td>\n",
       "      <td>0.07</td>\n",
       "      <td>1.90</td>\n",
       "      <td>2.75</td>\n",
       "      <td>5,415.56</td>\n",
       "      <td>133.87</td>\n",
       "      <td>NaN</td>\n",
       "      <td>101.08</td>\n",
       "      <td>43.26</td>\n",
       "      <td>5.36</td>\n",
       "      <td>NaN</td>\n",
       "      <td>2.92</td>\n",
       "      <td>1.02</td>\n",
       "      <td>NaN</td>\n",
       "      <td>5.13</td>\n",
       "      <td>198.55</td>\n",
       "      <td>5,911.46</td>\n",
       "    </tr>\n",
       "    <tr>\n",
       "      <td>1</td>\n",
       "      <td>Amatura</td>\n",
       "      <td>NaN</td>\n",
       "      <td>NaN</td>\n",
       "      <td>2.05</td>\n",
       "      <td>0.36</td>\n",
       "      <td>4,220.22</td>\n",
       "      <td>209.41</td>\n",
       "      <td>NaN</td>\n",
       "      <td>15.87</td>\n",
       "      <td>216.55</td>\n",
       "      <td>3.76</td>\n",
       "      <td>NaN</td>\n",
       "      <td>4.03</td>\n",
       "      <td>NaN</td>\n",
       "      <td>NaN</td>\n",
       "      <td>11.44</td>\n",
       "      <td>71.74</td>\n",
       "      <td>4,755.42</td>\n",
       "    </tr>\n",
       "    <tr>\n",
       "      <td>2</td>\n",
       "      <td>Anama</td>\n",
       "      <td>NaN</td>\n",
       "      <td>0.86</td>\n",
       "      <td>0.89</td>\n",
       "      <td>0.44</td>\n",
       "      <td>2,001.85</td>\n",
       "      <td>229.30</td>\n",
       "      <td>NaN</td>\n",
       "      <td>6.90</td>\n",
       "      <td>34.81</td>\n",
       "      <td>13.11</td>\n",
       "      <td>NaN</td>\n",
       "      <td>2.02</td>\n",
       "      <td>0.87</td>\n",
       "      <td>NaN</td>\n",
       "      <td>NaN</td>\n",
       "      <td>160.61</td>\n",
       "      <td>2,451.66</td>\n",
       "    </tr>\n",
       "    <tr>\n",
       "      <td>3</td>\n",
       "      <td>Anori</td>\n",
       "      <td>NaN</td>\n",
       "      <td>0.15</td>\n",
       "      <td>2.77</td>\n",
       "      <td>0.59</td>\n",
       "      <td>4,646.53</td>\n",
       "      <td>436.07</td>\n",
       "      <td>NaN</td>\n",
       "      <td>17.12</td>\n",
       "      <td>636.01</td>\n",
       "      <td>4.70</td>\n",
       "      <td>NaN</td>\n",
       "      <td>8.05</td>\n",
       "      <td>0.52</td>\n",
       "      <td>NaN</td>\n",
       "      <td>NaN</td>\n",
       "      <td>41.98</td>\n",
       "      <td>5,794.49</td>\n",
       "    </tr>\n",
       "    <tr>\n",
       "      <td>4</td>\n",
       "      <td>Apui</td>\n",
       "      <td>NaN</td>\n",
       "      <td>6.71</td>\n",
       "      <td>5.91</td>\n",
       "      <td>80.19</td>\n",
       "      <td>51,396.43</td>\n",
       "      <td>213.50</td>\n",
       "      <td>NaN</td>\n",
       "      <td>8.76</td>\n",
       "      <td>622.87</td>\n",
       "      <td>7.18</td>\n",
       "      <td>NaN</td>\n",
       "      <td>812.61</td>\n",
       "      <td>329.85</td>\n",
       "      <td>NaN</td>\n",
       "      <td>208.13</td>\n",
       "      <td>546.18</td>\n",
       "      <td>54,238.32</td>\n",
       "    </tr>\n",
       "  </tbody>\n",
       "</table>\n",
       "</div>"
      ],
      "text/plain": [
       "  Municípios  Agricultura Anual  Área não Observada  Área Urbana  \\\n",
       "0   Alvaraes                NaN                0.07         1.90   \n",
       "1    Amatura                NaN                 NaN         2.05   \n",
       "2      Anama                NaN                0.86         0.89   \n",
       "3      Anori                NaN                0.15         2.77   \n",
       "4       Apui                NaN                6.71         5.91   \n",
       "\n",
       "   Desflorestamento 2014     Floresta Hidrografia  Mineração  \\\n",
       "0                   2.75    5,415.56      133.87         NaN   \n",
       "1                   0.36    4,220.22      209.41         NaN   \n",
       "2                   0.44    2,001.85      229.30         NaN   \n",
       "3                   0.59    4,646.53      436.07         NaN   \n",
       "4                  80.19   51,396.43      213.50         NaN   \n",
       "\n",
       "   Mosaico de Ocupações Não Floresta  Outros  Pasto com Solo Exposto  \\\n",
       "0                101.08       43.26     5.36                     NaN   \n",
       "1                 15.87      216.55     3.76                     NaN   \n",
       "2                  6.90       34.81    13.11                     NaN   \n",
       "3                 17.12      636.01     4.70                     NaN   \n",
       "4                  8.76      622.87     7.18                     NaN   \n",
       "\n",
       "  Pasto Limpo  Pasto Sujo  Reflorestamento  Regeneração com Pasto  \\\n",
       "0       2.92         1.02              NaN                   5.13   \n",
       "1       4.03          NaN              NaN                  11.44   \n",
       "2       2.02         0.87              NaN                    NaN   \n",
       "3       8.05         0.52              NaN                    NaN   \n",
       "4     812.61       329.85              NaN                 208.13   \n",
       "\n",
       "   Vegetação Secundária  Total Geral  \n",
       "0                198.55    5,911.46   \n",
       "1                 71.74    4,755.42   \n",
       "2                160.61    2,451.66   \n",
       "3                 41.98    5,794.49   \n",
       "4                546.18   54,238.32   "
      ]
     },
     "execution_count": 5,
     "metadata": {},
     "output_type": "execute_result"
    }
   ],
   "source": [
    "df_amazonas.head()"
   ]
  },
  {
   "cell_type": "code",
   "execution_count": 6,
   "metadata": {},
   "outputs": [
    {
     "data": {
      "text/html": [
       "<div>\n",
       "<style scoped>\n",
       "    .dataframe tbody tr th:only-of-type {\n",
       "        vertical-align: middle;\n",
       "    }\n",
       "\n",
       "    .dataframe tbody tr th {\n",
       "        vertical-align: top;\n",
       "    }\n",
       "\n",
       "    .dataframe thead th {\n",
       "        text-align: right;\n",
       "    }\n",
       "</style>\n",
       "<table border=\"1\" class=\"dataframe\">\n",
       "  <thead>\n",
       "    <tr style=\"text-align: right;\">\n",
       "      <th></th>\n",
       "      <th>codigo_uf</th>\n",
       "      <th>uf</th>\n",
       "      <th>nome</th>\n",
       "    </tr>\n",
       "  </thead>\n",
       "  <tbody>\n",
       "    <tr>\n",
       "      <td>0</td>\n",
       "      <td>11</td>\n",
       "      <td>RO</td>\n",
       "      <td>Rondônia</td>\n",
       "    </tr>\n",
       "    <tr>\n",
       "      <td>1</td>\n",
       "      <td>12</td>\n",
       "      <td>AC</td>\n",
       "      <td>Acre</td>\n",
       "    </tr>\n",
       "    <tr>\n",
       "      <td>2</td>\n",
       "      <td>13</td>\n",
       "      <td>AM</td>\n",
       "      <td>Amazonas</td>\n",
       "    </tr>\n",
       "    <tr>\n",
       "      <td>3</td>\n",
       "      <td>14</td>\n",
       "      <td>RR</td>\n",
       "      <td>Roraima</td>\n",
       "    </tr>\n",
       "    <tr>\n",
       "      <td>4</td>\n",
       "      <td>15</td>\n",
       "      <td>PA</td>\n",
       "      <td>Pará</td>\n",
       "    </tr>\n",
       "  </tbody>\n",
       "</table>\n",
       "</div>"
      ],
      "text/plain": [
       "   codigo_uf  uf      nome\n",
       "0         11  RO  Rondônia\n",
       "1         12  AC      Acre\n",
       "2         13  AM  Amazonas\n",
       "3         14  RR   Roraima\n",
       "4         15  PA      Pará"
      ]
     },
     "execution_count": 6,
     "metadata": {},
     "output_type": "execute_result"
    }
   ],
   "source": [
    "df_states.head()"
   ]
  },
  {
   "cell_type": "code",
   "execution_count": 7,
   "metadata": {
    "scrolled": true
   },
   "outputs": [
    {
     "data": {
      "text/html": [
       "<div>\n",
       "<style scoped>\n",
       "    .dataframe tbody tr th:only-of-type {\n",
       "        vertical-align: middle;\n",
       "    }\n",
       "\n",
       "    .dataframe tbody tr th {\n",
       "        vertical-align: top;\n",
       "    }\n",
       "\n",
       "    .dataframe thead th {\n",
       "        text-align: right;\n",
       "    }\n",
       "</style>\n",
       "<table border=\"1\" class=\"dataframe\">\n",
       "  <thead>\n",
       "    <tr style=\"text-align: right;\">\n",
       "      <th></th>\n",
       "      <th>codigo_ibge</th>\n",
       "      <th>nome</th>\n",
       "      <th>latitude</th>\n",
       "      <th>longitude</th>\n",
       "      <th>capital</th>\n",
       "      <th>codigo_uf</th>\n",
       "    </tr>\n",
       "  </thead>\n",
       "  <tbody>\n",
       "    <tr>\n",
       "      <td>0</td>\n",
       "      <td>5200050</td>\n",
       "      <td>Abadia de Goiás</td>\n",
       "      <td>-16.75730</td>\n",
       "      <td>-49.4412</td>\n",
       "      <td>0</td>\n",
       "      <td>52</td>\n",
       "    </tr>\n",
       "    <tr>\n",
       "      <td>1</td>\n",
       "      <td>3100104</td>\n",
       "      <td>Abadia dos Dourados</td>\n",
       "      <td>-18.48310</td>\n",
       "      <td>-47.3916</td>\n",
       "      <td>0</td>\n",
       "      <td>31</td>\n",
       "    </tr>\n",
       "    <tr>\n",
       "      <td>2</td>\n",
       "      <td>5200100</td>\n",
       "      <td>Abadiânia</td>\n",
       "      <td>-16.19700</td>\n",
       "      <td>-48.7057</td>\n",
       "      <td>0</td>\n",
       "      <td>52</td>\n",
       "    </tr>\n",
       "    <tr>\n",
       "      <td>3</td>\n",
       "      <td>3100203</td>\n",
       "      <td>Abaeté</td>\n",
       "      <td>-19.15510</td>\n",
       "      <td>-45.4444</td>\n",
       "      <td>0</td>\n",
       "      <td>31</td>\n",
       "    </tr>\n",
       "    <tr>\n",
       "      <td>4</td>\n",
       "      <td>1500107</td>\n",
       "      <td>Abaetetuba</td>\n",
       "      <td>-1.72183</td>\n",
       "      <td>-48.8788</td>\n",
       "      <td>0</td>\n",
       "      <td>15</td>\n",
       "    </tr>\n",
       "  </tbody>\n",
       "</table>\n",
       "</div>"
      ],
      "text/plain": [
       "   codigo_ibge                 nome  latitude  longitude  capital  codigo_uf\n",
       "0      5200050      Abadia de Goiás -16.75730   -49.4412        0         52\n",
       "1      3100104  Abadia dos Dourados -18.48310   -47.3916        0         31\n",
       "2      5200100            Abadiânia -16.19700   -48.7057        0         52\n",
       "3      3100203               Abaeté -19.15510   -45.4444        0         31\n",
       "4      1500107           Abaetetuba  -1.72183   -48.8788        0         15"
      ]
     },
     "execution_count": 7,
     "metadata": {},
     "output_type": "execute_result"
    }
   ],
   "source": [
    "df_cities.head()"
   ]
  },
  {
   "cell_type": "markdown",
   "metadata": {},
   "source": [
    "Apos carregar os dados devemos associar as tabelas de estados e municípios e selecionar apenas os municípios do Amazonas"
   ]
  },
  {
   "cell_type": "markdown",
   "metadata": {},
   "source": [
    "Note que nos dados provenientes da tabela ***municipios.csv*** o nome dos municípios estão todos acentuados, no entanto na tabela amazonas os nomes estão sem acento. Logo é necessario remover os acentos dos nomes da tabela ***municipios.csv***."
   ]
  },
  {
   "cell_type": "code",
   "execution_count": 8,
   "metadata": {},
   "outputs": [
    {
     "name": "stdout",
     "output_type": "stream",
     "text": [
      "Ola!\n"
     ]
    }
   ],
   "source": [
    "from unicodedata import normalize\n",
    "# use esta funçao para remover acentos\n",
    "def remove_acentos_python3(txt):\n",
    "    return str(normalize('NFKD', txt).encode('ASCII', 'ignore'), 'utf-8')\n",
    "def remove_acentos_python2(txt):\n",
    "    return normalize('NFKD', txt.decode('utf-8')).encode('ASCII', 'ignore')\n",
    "\n",
    "# ex\n",
    "print(remove_acentos_python3(\"Olá!\")) #change to python3, the one I'm using"
   ]
  },
  {
   "cell_type": "code",
   "execution_count": 9,
   "metadata": {},
   "outputs": [],
   "source": [
    "df_cities['nome'] = df_cities['nome'].apply(remove_acentos_python3)"
   ]
  },
  {
   "cell_type": "code",
   "execution_count": 10,
   "metadata": {},
   "outputs": [
    {
     "data": {
      "text/html": [
       "<div>\n",
       "<style scoped>\n",
       "    .dataframe tbody tr th:only-of-type {\n",
       "        vertical-align: middle;\n",
       "    }\n",
       "\n",
       "    .dataframe tbody tr th {\n",
       "        vertical-align: top;\n",
       "    }\n",
       "\n",
       "    .dataframe thead th {\n",
       "        text-align: right;\n",
       "    }\n",
       "</style>\n",
       "<table border=\"1\" class=\"dataframe\">\n",
       "  <thead>\n",
       "    <tr style=\"text-align: right;\">\n",
       "      <th></th>\n",
       "      <th>codigo_ibge</th>\n",
       "      <th>nome</th>\n",
       "      <th>latitude</th>\n",
       "      <th>longitude</th>\n",
       "      <th>capital</th>\n",
       "      <th>codigo_uf</th>\n",
       "    </tr>\n",
       "  </thead>\n",
       "  <tbody>\n",
       "    <tr>\n",
       "      <td>0</td>\n",
       "      <td>5200050</td>\n",
       "      <td>Abadia de Goias</td>\n",
       "      <td>-16.75730</td>\n",
       "      <td>-49.4412</td>\n",
       "      <td>0</td>\n",
       "      <td>52</td>\n",
       "    </tr>\n",
       "    <tr>\n",
       "      <td>1</td>\n",
       "      <td>3100104</td>\n",
       "      <td>Abadia dos Dourados</td>\n",
       "      <td>-18.48310</td>\n",
       "      <td>-47.3916</td>\n",
       "      <td>0</td>\n",
       "      <td>31</td>\n",
       "    </tr>\n",
       "    <tr>\n",
       "      <td>2</td>\n",
       "      <td>5200100</td>\n",
       "      <td>Abadiania</td>\n",
       "      <td>-16.19700</td>\n",
       "      <td>-48.7057</td>\n",
       "      <td>0</td>\n",
       "      <td>52</td>\n",
       "    </tr>\n",
       "    <tr>\n",
       "      <td>3</td>\n",
       "      <td>3100203</td>\n",
       "      <td>Abaete</td>\n",
       "      <td>-19.15510</td>\n",
       "      <td>-45.4444</td>\n",
       "      <td>0</td>\n",
       "      <td>31</td>\n",
       "    </tr>\n",
       "    <tr>\n",
       "      <td>4</td>\n",
       "      <td>1500107</td>\n",
       "      <td>Abaetetuba</td>\n",
       "      <td>-1.72183</td>\n",
       "      <td>-48.8788</td>\n",
       "      <td>0</td>\n",
       "      <td>15</td>\n",
       "    </tr>\n",
       "  </tbody>\n",
       "</table>\n",
       "</div>"
      ],
      "text/plain": [
       "   codigo_ibge                 nome  latitude  longitude  capital  codigo_uf\n",
       "0      5200050      Abadia de Goias -16.75730   -49.4412        0         52\n",
       "1      3100104  Abadia dos Dourados -18.48310   -47.3916        0         31\n",
       "2      5200100            Abadiania -16.19700   -48.7057        0         52\n",
       "3      3100203               Abaete -19.15510   -45.4444        0         31\n",
       "4      1500107           Abaetetuba  -1.72183   -48.8788        0         15"
      ]
     },
     "execution_count": 10,
     "metadata": {},
     "output_type": "execute_result"
    }
   ],
   "source": [
    "df_cities.head()"
   ]
  },
  {
   "cell_type": "markdown",
   "metadata": {},
   "source": [
    "Em seguida relacione as tabelas municipios e amazonas."
   ]
  },
  {
   "cell_type": "code",
   "execution_count": 11,
   "metadata": {},
   "outputs": [
    {
     "data": {
      "text/html": [
       "<div>\n",
       "<style scoped>\n",
       "    .dataframe tbody tr th:only-of-type {\n",
       "        vertical-align: middle;\n",
       "    }\n",
       "\n",
       "    .dataframe tbody tr th {\n",
       "        vertical-align: top;\n",
       "    }\n",
       "\n",
       "    .dataframe thead th {\n",
       "        text-align: right;\n",
       "    }\n",
       "</style>\n",
       "<table border=\"1\" class=\"dataframe\">\n",
       "  <thead>\n",
       "    <tr style=\"text-align: right;\">\n",
       "      <th></th>\n",
       "      <th>codigo_uf</th>\n",
       "      <th>uf</th>\n",
       "      <th>estado</th>\n",
       "    </tr>\n",
       "  </thead>\n",
       "  <tbody>\n",
       "    <tr>\n",
       "      <td>0</td>\n",
       "      <td>11</td>\n",
       "      <td>RO</td>\n",
       "      <td>Rondônia</td>\n",
       "    </tr>\n",
       "    <tr>\n",
       "      <td>1</td>\n",
       "      <td>12</td>\n",
       "      <td>AC</td>\n",
       "      <td>Acre</td>\n",
       "    </tr>\n",
       "    <tr>\n",
       "      <td>2</td>\n",
       "      <td>13</td>\n",
       "      <td>AM</td>\n",
       "      <td>Amazonas</td>\n",
       "    </tr>\n",
       "    <tr>\n",
       "      <td>3</td>\n",
       "      <td>14</td>\n",
       "      <td>RR</td>\n",
       "      <td>Roraima</td>\n",
       "    </tr>\n",
       "    <tr>\n",
       "      <td>4</td>\n",
       "      <td>15</td>\n",
       "      <td>PA</td>\n",
       "      <td>Pará</td>\n",
       "    </tr>\n",
       "  </tbody>\n",
       "</table>\n",
       "</div>"
      ],
      "text/plain": [
       "   codigo_uf  uf    estado\n",
       "0         11  RO  Rondônia\n",
       "1         12  AC      Acre\n",
       "2         13  AM  Amazonas\n",
       "3         14  RR   Roraima\n",
       "4         15  PA      Pará"
      ]
     },
     "execution_count": 11,
     "metadata": {},
     "output_type": "execute_result"
    }
   ],
   "source": [
    "# rename column \"name\", because we already have a \"name\" column in df_cities\n",
    "df_states.rename(columns={'nome': 'estado'}, inplace=True)\n",
    "df_states.head()"
   ]
  },
  {
   "cell_type": "code",
   "execution_count": 12,
   "metadata": {},
   "outputs": [],
   "source": [
    "df_brazil = df_cities.merge(df_states, how='left', on=['codigo_uf'])"
   ]
  },
  {
   "cell_type": "code",
   "execution_count": 13,
   "metadata": {},
   "outputs": [
    {
     "name": "stdout",
     "output_type": "stream",
     "text": [
      "Dimensões antigas: (5570, 6) Dimensões novas: (5570, 8)\n"
     ]
    },
    {
     "data": {
      "text/html": [
       "<div>\n",
       "<style scoped>\n",
       "    .dataframe tbody tr th:only-of-type {\n",
       "        vertical-align: middle;\n",
       "    }\n",
       "\n",
       "    .dataframe tbody tr th {\n",
       "        vertical-align: top;\n",
       "    }\n",
       "\n",
       "    .dataframe thead th {\n",
       "        text-align: right;\n",
       "    }\n",
       "</style>\n",
       "<table border=\"1\" class=\"dataframe\">\n",
       "  <thead>\n",
       "    <tr style=\"text-align: right;\">\n",
       "      <th></th>\n",
       "      <th>codigo_ibge</th>\n",
       "      <th>nome</th>\n",
       "      <th>latitude</th>\n",
       "      <th>longitude</th>\n",
       "      <th>capital</th>\n",
       "      <th>codigo_uf</th>\n",
       "      <th>uf</th>\n",
       "      <th>estado</th>\n",
       "    </tr>\n",
       "  </thead>\n",
       "  <tbody>\n",
       "    <tr>\n",
       "      <td>0</td>\n",
       "      <td>5200050</td>\n",
       "      <td>Abadia de Goias</td>\n",
       "      <td>-16.75730</td>\n",
       "      <td>-49.4412</td>\n",
       "      <td>0</td>\n",
       "      <td>52</td>\n",
       "      <td>GO</td>\n",
       "      <td>Goiás</td>\n",
       "    </tr>\n",
       "    <tr>\n",
       "      <td>1</td>\n",
       "      <td>3100104</td>\n",
       "      <td>Abadia dos Dourados</td>\n",
       "      <td>-18.48310</td>\n",
       "      <td>-47.3916</td>\n",
       "      <td>0</td>\n",
       "      <td>31</td>\n",
       "      <td>MG</td>\n",
       "      <td>Minas Gerais</td>\n",
       "    </tr>\n",
       "    <tr>\n",
       "      <td>2</td>\n",
       "      <td>5200100</td>\n",
       "      <td>Abadiania</td>\n",
       "      <td>-16.19700</td>\n",
       "      <td>-48.7057</td>\n",
       "      <td>0</td>\n",
       "      <td>52</td>\n",
       "      <td>GO</td>\n",
       "      <td>Goiás</td>\n",
       "    </tr>\n",
       "    <tr>\n",
       "      <td>3</td>\n",
       "      <td>3100203</td>\n",
       "      <td>Abaete</td>\n",
       "      <td>-19.15510</td>\n",
       "      <td>-45.4444</td>\n",
       "      <td>0</td>\n",
       "      <td>31</td>\n",
       "      <td>MG</td>\n",
       "      <td>Minas Gerais</td>\n",
       "    </tr>\n",
       "    <tr>\n",
       "      <td>4</td>\n",
       "      <td>1500107</td>\n",
       "      <td>Abaetetuba</td>\n",
       "      <td>-1.72183</td>\n",
       "      <td>-48.8788</td>\n",
       "      <td>0</td>\n",
       "      <td>15</td>\n",
       "      <td>PA</td>\n",
       "      <td>Pará</td>\n",
       "    </tr>\n",
       "  </tbody>\n",
       "</table>\n",
       "</div>"
      ],
      "text/plain": [
       "   codigo_ibge                 nome  latitude  longitude  capital  codigo_uf  \\\n",
       "0      5200050      Abadia de Goias -16.75730   -49.4412        0         52   \n",
       "1      3100104  Abadia dos Dourados -18.48310   -47.3916        0         31   \n",
       "2      5200100            Abadiania -16.19700   -48.7057        0         52   \n",
       "3      3100203               Abaete -19.15510   -45.4444        0         31   \n",
       "4      1500107           Abaetetuba  -1.72183   -48.8788        0         15   \n",
       "\n",
       "   uf        estado  \n",
       "0  GO         Goiás  \n",
       "1  MG  Minas Gerais  \n",
       "2  GO         Goiás  \n",
       "3  MG  Minas Gerais  \n",
       "4  PA          Pará  "
      ]
     },
     "execution_count": 13,
     "metadata": {},
     "output_type": "execute_result"
    }
   ],
   "source": [
    "print('Dimensões antigas:', df_cities.shape, 'Dimensões novas:', df_brazil.shape)\n",
    "df_brazil.head()"
   ]
  },
  {
   "cell_type": "code",
   "execution_count": 14,
   "metadata": {},
   "outputs": [],
   "source": [
    "df_cities_amazonas = df_brazil[df_brazil['uf'] == 'AM']"
   ]
  },
  {
   "cell_type": "code",
   "execution_count": 15,
   "metadata": {},
   "outputs": [
    {
     "name": "stdout",
     "output_type": "stream",
     "text": [
      "Dimensões df_amazonas: (62, 18) Dimensões df_cities_amazonas: (62, 8)\n"
     ]
    }
   ],
   "source": [
    "print('Dimensões df_amazonas:', df_amazonas.shape, 'Dimensões df_cities_amazonas:', df_cities_amazonas.shape)"
   ]
  },
  {
   "cell_type": "code",
   "execution_count": 16,
   "metadata": {},
   "outputs": [
    {
     "name": "stdout",
     "output_type": "stream",
     "text": [
      "Dimensões dataframe Amazonas completo: (62, 26)\n"
     ]
    }
   ],
   "source": [
    "df_forest = df_amazonas.merge(df_cities_amazonas, left_on='Municípios', right_on='nome')\n",
    "print('Dimensões dataframe Amazonas completo:', df_forest.shape)"
   ]
  },
  {
   "cell_type": "markdown",
   "metadata": {},
   "source": [
    "### Questão\n",
    "\n",
    "\n",
    "Plote no mapa do Brasil indicadores  de desflorestamento para todos os municipios do amazonas.\n",
    "Os indicadores devem ser relativos ao tamanho da floresta de cada município dando destaque aos municipios que com desflorestamento acima da média.\n",
    "\n",
    "#### Dica\n",
    "\n",
    "O desflorestamento relativo é dado pelas colunas ***Desflorestamento 2014*** / ***Floresta*** da tabela ***amazonas.csv***.\n",
    "Note que a coluna ***Floresta*** não é numérica e contém ',' separando os milhares, sendo necessário remover a ',' de todas as entradas e logo após converter os valores para float.\n",
    "\n",
    "Podem ser usadas todas as dicas relevantes sobre apresentação de figuras  nos textos *Making Data Meaningful* e *Ten Simple Rules for Better Figures*.\n",
    "\n",
    "Para plotar sobre o mapa, pode-se usar a funções normais do matplotlib e ao fim chamar a função **mplleaflet.display()**."
   ]
  },
  {
   "cell_type": "code",
   "execution_count": 28,
   "metadata": {},
   "outputs": [
    {
     "name": "stdout",
     "output_type": "stream",
     "text": [
      "str_to_float working!\n"
     ]
    }
   ],
   "source": [
    "def str_to_float(number):\n",
    "    return float(number.replace(',', '')) if(isinstance(number, str)) else number\n",
    "\n",
    "def test_str_tofloat():\n",
    "    tests = ['98', '7,900', '876.2', '12,986.91']\n",
    "    gt = [98, 7900, 876.2, 12986.91]\n",
    "    for i, n in enumerate(tests):\n",
    "        if str_to_float(n) != gt[i]:\n",
    "            print('FAIL! Expected: ', i, 'Got:', str_to_float(n))\n",
    "            return\n",
    "    print('str_to_float working!')\n",
    "test_str_tofloat()\n",
    "    "
   ]
  },
  {
   "cell_type": "code",
   "execution_count": 29,
   "metadata": {},
   "outputs": [],
   "source": [
    "#calcula as informações do desflorestamento\n",
    "df_forest['Floresta'] = df_forest['Floresta'].apply(str_to_float)\n",
    "df_forest[DESFLORESTAMENTO] = df_forest['Desflorestamento 2014']/df_forest['Floresta']"
   ]
  },
  {
   "cell_type": "code",
   "execution_count": 19,
   "metadata": {
    "scrolled": false
   },
   "outputs": [
    {
     "name": "stdout",
     "output_type": "stream",
     "text": [
      "[2.75, 0.36, 0.44, 0.59, 80.19, 0.7, 8.35, 1.91, 4.46, 0.31, 2.29, 1.01, 71.96, 1.44, 0.76, 16.62, 1.05, 0.53, 2.71, 3.25, 2.98, 2.4, 7.45, 1.0, 1.12, 13.95, 1.07, 2.24, 5.54, 2.45, 0.81, 0.97, 1.81, 1.61, 130.13, 3.04, 0.14, 2.11, 29.78, 1.68, 13.87, 2.32, 1.14, 0.86, 22.55, 4.24, 9.47, 6.21, 1.11, 0.91, 0.8, 1.82, 1.0, 3.78, 0.54, 1.72, 2.99, 8.79, 0.36, 3.46, 1.45, 0.62]\n"
     ]
    }
   ],
   "source": [
    "print(list(df_forest[DESFLORESTAMENTO]))"
   ]
  },
  {
   "cell_type": "markdown",
   "metadata": {},
   "source": [
    "### Fator de Escala\n",
    "Para representar as cidades no mapa com indicadores relativos ao tamanho da floresta, optou-se por representar municípios com grandes áreas de floresta por pontos maiores e municípios com pequenas áreas de florestas por pontos menores. \n",
    "\n",
    "Para que essa informação se adeque ao tamanho do mapa e preserve a diferença proporcional entre os municípios, aplica-se um **fator de escala** determinado empíricamente."
   ]
  },
  {
   "cell_type": "code",
   "execution_count": 30,
   "metadata": {},
   "outputs": [
    {
     "name": "stderr",
     "output_type": "stream",
     "text": [
      "/Library/Frameworks/Python.framework/Versions/3.6/lib/python3.6/site-packages/IPython/core/display.py:694: UserWarning: Consider using IPython.display.IFrame instead\n",
      "  warnings.warn(\"Consider using IPython.display.IFrame instead\")\n"
     ]
    },
    {
     "data": {
      "text/html": [
       "<iframe src=\"data:text/html;base64,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\" width=\"100%\" height=\"480\"></iframe>"
      ],
      "text/plain": [
       "<IPython.core.display.HTML object>"
      ]
     },
     "execution_count": 30,
     "metadata": {},
     "output_type": "execute_result"
    }
   ],
   "source": [
    "#codigo de plot\n",
    "plt.figure(figsize=(8,8))\n",
    "\n",
    "#plt.plot(df_forest['longitude'], df_forest['latitude'], 'o', s=df_forest['Floresta'])\n",
    "plt.scatter(df_forest['longitude'], df_forest['latitude'],  \n",
    "            s=df_forest['Floresta']/SCALE_FACTOR,\n",
    "            c = df_forest[DESFLORESTAMENTO],\n",
    "            cmap='bwr')\n",
    "\n",
    "#transforma o plot em localizações no mapa\n",
    "mplleaflet.display()"
   ]
  },
  {
   "cell_type": "markdown",
   "metadata": {},
   "source": [
    "### Questão\n",
    "\n",
    "\n",
    "Segundo os dados, a mineração nos municípios tem alguma relação com o desflorestamento acima da média?\n",
    "Mostre suas conclusões por tabelas e plots no mapa."
   ]
  },
  {
   "cell_type": "code",
   "execution_count": 32,
   "metadata": {},
   "outputs": [
    {
     "name": "stdout",
     "output_type": "stream",
     "text": [
      "[nan, nan, nan, nan, nan, nan, nan, 0.01, nan, nan, nan, nan, 1.9, nan, 0.01, nan, nan, nan, nan, nan, nan, nan, nan, nan, nan, nan, nan, 0.39, 0.03, nan, nan, nan, nan, nan, 2.25, 0.86, nan, 16.89, nan, nan, 6.7, nan, nan, nan, 10.85, nan, nan, 1.48, 0.88, nan, nan, nan, nan, 0.14, nan, nan, nan, nan, nan, nan, 1.78, 0.03]\n"
     ]
    }
   ],
   "source": [
    "#calcula as relaçoes entre desflorestamento e mineração\n",
    "print(list(df_forest[MINERACAO]))"
   ]
  },
  {
   "cell_type": "code",
   "execution_count": 33,
   "metadata": {},
   "outputs": [
    {
     "data": {
      "text/html": [
       "<div>\n",
       "<style scoped>\n",
       "    .dataframe tbody tr th:only-of-type {\n",
       "        vertical-align: middle;\n",
       "    }\n",
       "\n",
       "    .dataframe tbody tr th {\n",
       "        vertical-align: top;\n",
       "    }\n",
       "\n",
       "    .dataframe thead th {\n",
       "        text-align: right;\n",
       "    }\n",
       "</style>\n",
       "<table border=\"1\" class=\"dataframe\">\n",
       "  <thead>\n",
       "    <tr style=\"text-align: right;\">\n",
       "      <th></th>\n",
       "      <th>Municípios</th>\n",
       "      <th>Agricultura Anual</th>\n",
       "      <th>Área não Observada</th>\n",
       "      <th>Área Urbana</th>\n",
       "      <th>Desflorestamento 2014</th>\n",
       "      <th>Floresta</th>\n",
       "      <th>Hidrografia</th>\n",
       "      <th>Mineração</th>\n",
       "      <th>Mosaico de Ocupações</th>\n",
       "      <th>Não Floresta</th>\n",
       "      <th>...</th>\n",
       "      <th>Total Geral</th>\n",
       "      <th>codigo_ibge</th>\n",
       "      <th>nome</th>\n",
       "      <th>latitude</th>\n",
       "      <th>longitude</th>\n",
       "      <th>capital</th>\n",
       "      <th>codigo_uf</th>\n",
       "      <th>uf</th>\n",
       "      <th>estado</th>\n",
       "      <th>Desflorestamento Relativo</th>\n",
       "    </tr>\n",
       "  </thead>\n",
       "  <tbody>\n",
       "    <tr>\n",
       "      <td>0</td>\n",
       "      <td>Alvaraes</td>\n",
       "      <td>NaN</td>\n",
       "      <td>0.07</td>\n",
       "      <td>1.90</td>\n",
       "      <td>2.75</td>\n",
       "      <td>5415.56</td>\n",
       "      <td>133.87</td>\n",
       "      <td>NaN</td>\n",
       "      <td>101.08</td>\n",
       "      <td>43.26</td>\n",
       "      <td>...</td>\n",
       "      <td>5,911.46</td>\n",
       "      <td>1300029</td>\n",
       "      <td>Alvaraes</td>\n",
       "      <td>-3.22727</td>\n",
       "      <td>-64.8007</td>\n",
       "      <td>0</td>\n",
       "      <td>13</td>\n",
       "      <td>AM</td>\n",
       "      <td>Amazonas</td>\n",
       "      <td>0.000508</td>\n",
       "    </tr>\n",
       "    <tr>\n",
       "      <td>1</td>\n",
       "      <td>Amatura</td>\n",
       "      <td>NaN</td>\n",
       "      <td>NaN</td>\n",
       "      <td>2.05</td>\n",
       "      <td>0.36</td>\n",
       "      <td>4220.22</td>\n",
       "      <td>209.41</td>\n",
       "      <td>NaN</td>\n",
       "      <td>15.87</td>\n",
       "      <td>216.55</td>\n",
       "      <td>...</td>\n",
       "      <td>4,755.42</td>\n",
       "      <td>1300060</td>\n",
       "      <td>Amatura</td>\n",
       "      <td>-3.37455</td>\n",
       "      <td>-68.2005</td>\n",
       "      <td>0</td>\n",
       "      <td>13</td>\n",
       "      <td>AM</td>\n",
       "      <td>Amazonas</td>\n",
       "      <td>0.000085</td>\n",
       "    </tr>\n",
       "    <tr>\n",
       "      <td>2</td>\n",
       "      <td>Anama</td>\n",
       "      <td>NaN</td>\n",
       "      <td>0.86</td>\n",
       "      <td>0.89</td>\n",
       "      <td>0.44</td>\n",
       "      <td>2001.85</td>\n",
       "      <td>229.30</td>\n",
       "      <td>NaN</td>\n",
       "      <td>6.90</td>\n",
       "      <td>34.81</td>\n",
       "      <td>...</td>\n",
       "      <td>2,451.66</td>\n",
       "      <td>1300086</td>\n",
       "      <td>Anama</td>\n",
       "      <td>-3.56697</td>\n",
       "      <td>-61.3963</td>\n",
       "      <td>0</td>\n",
       "      <td>13</td>\n",
       "      <td>AM</td>\n",
       "      <td>Amazonas</td>\n",
       "      <td>0.000220</td>\n",
       "    </tr>\n",
       "    <tr>\n",
       "      <td>3</td>\n",
       "      <td>Anori</td>\n",
       "      <td>NaN</td>\n",
       "      <td>0.15</td>\n",
       "      <td>2.77</td>\n",
       "      <td>0.59</td>\n",
       "      <td>4646.53</td>\n",
       "      <td>436.07</td>\n",
       "      <td>NaN</td>\n",
       "      <td>17.12</td>\n",
       "      <td>636.01</td>\n",
       "      <td>...</td>\n",
       "      <td>5,794.49</td>\n",
       "      <td>1300102</td>\n",
       "      <td>Anori</td>\n",
       "      <td>-3.74603</td>\n",
       "      <td>-61.6575</td>\n",
       "      <td>0</td>\n",
       "      <td>13</td>\n",
       "      <td>AM</td>\n",
       "      <td>Amazonas</td>\n",
       "      <td>0.000127</td>\n",
       "    </tr>\n",
       "    <tr>\n",
       "      <td>4</td>\n",
       "      <td>Apui</td>\n",
       "      <td>NaN</td>\n",
       "      <td>6.71</td>\n",
       "      <td>5.91</td>\n",
       "      <td>80.19</td>\n",
       "      <td>51396.43</td>\n",
       "      <td>213.50</td>\n",
       "      <td>NaN</td>\n",
       "      <td>8.76</td>\n",
       "      <td>622.87</td>\n",
       "      <td>...</td>\n",
       "      <td>54,238.32</td>\n",
       "      <td>1300144</td>\n",
       "      <td>Apui</td>\n",
       "      <td>-7.19409</td>\n",
       "      <td>-59.8960</td>\n",
       "      <td>0</td>\n",
       "      <td>13</td>\n",
       "      <td>AM</td>\n",
       "      <td>Amazonas</td>\n",
       "      <td>0.001560</td>\n",
       "    </tr>\n",
       "  </tbody>\n",
       "</table>\n",
       "<p>5 rows × 27 columns</p>\n",
       "</div>"
      ],
      "text/plain": [
       "  Municípios  Agricultura Anual  Área não Observada  Área Urbana  \\\n",
       "0   Alvaraes                NaN                0.07         1.90   \n",
       "1    Amatura                NaN                 NaN         2.05   \n",
       "2      Anama                NaN                0.86         0.89   \n",
       "3      Anori                NaN                0.15         2.77   \n",
       "4       Apui                NaN                6.71         5.91   \n",
       "\n",
       "   Desflorestamento 2014  Floresta Hidrografia  Mineração  \\\n",
       "0                   2.75   5415.56     133.87         NaN   \n",
       "1                   0.36   4220.22     209.41         NaN   \n",
       "2                   0.44   2001.85     229.30         NaN   \n",
       "3                   0.59   4646.53     436.07         NaN   \n",
       "4                  80.19  51396.43     213.50         NaN   \n",
       "\n",
       "   Mosaico de Ocupações Não Floresta  ...  Total Geral  codigo_ibge      nome  \\\n",
       "0                101.08       43.26   ...    5,911.46       1300029  Alvaraes   \n",
       "1                 15.87      216.55   ...    4,755.42       1300060   Amatura   \n",
       "2                  6.90       34.81   ...    2,451.66       1300086     Anama   \n",
       "3                 17.12      636.01   ...    5,794.49       1300102     Anori   \n",
       "4                  8.76      622.87   ...   54,238.32       1300144      Apui   \n",
       "\n",
       "   latitude  longitude  capital  codigo_uf  uf    estado  \\\n",
       "0  -3.22727   -64.8007        0         13  AM  Amazonas   \n",
       "1  -3.37455   -68.2005        0         13  AM  Amazonas   \n",
       "2  -3.56697   -61.3963        0         13  AM  Amazonas   \n",
       "3  -3.74603   -61.6575        0         13  AM  Amazonas   \n",
       "4  -7.19409   -59.8960        0         13  AM  Amazonas   \n",
       "\n",
       "  Desflorestamento Relativo  \n",
       "0                  0.000508  \n",
       "1                  0.000085  \n",
       "2                  0.000220  \n",
       "3                  0.000127  \n",
       "4                  0.001560  \n",
       "\n",
       "[5 rows x 27 columns]"
      ]
     },
     "execution_count": 33,
     "metadata": {},
     "output_type": "execute_result"
    }
   ],
   "source": [
    "df_forest[MINERACAO].fillna(0, inplace=True)\n",
    "df_forest.head()"
   ]
  },
  {
   "cell_type": "code",
   "execution_count": 134,
   "metadata": {},
   "outputs": [],
   "source": [
    "# conclusoes sobre mineração e desflorestamento\n"
   ]
  },
  {
   "cell_type": "code",
   "execution_count": 24,
   "metadata": {},
   "outputs": [
    {
     "data": {
      "text/html": [
       "<iframe src=\"data:text/html;base64,PGhlYWQ+CiAgICA8c2NyaXB0IHNyYz0iaHR0cHM6Ly9jZG5qcy5jbG91ZGZsYXJlLmNvbS9hamF4L2xpYnMvbGVhZmxldC8wLjcuMy9sZWFmbGV0LmpzIj48L3NjcmlwdD4KICAgIDxsaW5rIHJlbD0ic3R5bGVzaGVldCIgaHJlZj0iaHR0cHM6Ly9jZG5qcy5jbG91ZGZsYXJlLmNvbS9hamF4L2xpYnMvbGVhZmxldC8wLjcuMy9sZWFmbGV0LmNzcyIgLz4KICA8c3R5bGU+CiAgICAjbWFwNDE4N2UwNzEzNGMxNGJlZTk5MjhiNTVkOWQ2YzU5YjkgewogICAgICBoZWlnaHQ6MTAwJTsKICAgIH0KICA8L3N0eWxlPiAKPC9oZWFkPgo8Ym9keT4KICA8ZGl2IGlkPSJtYXA0MTg3ZTA3MTM0YzE0YmVlOTkyOGI1NWQ5ZDZjNTliOSI+PC9kaXY+CjxzY3JpcHQgdGV4dD0idGV4dC9qYXZhc2NyaXB0Ij4KdmFyIG1hcCA9IEwubWFwKCdtYXA0MTg3ZTA3MTM0YzE0YmVlOTkyOGI1NWQ5ZDZjNTliOScpOwpMLnRpbGVMYXllcigKICAiaHR0cDovL3tzfS50aWxlLm9wZW5zdHJlZXRtYXAub3JnL3t6fS97eH0ve3l9LnBuZyIsCiAge21heFpvb206MTksIGF0dHJpYnV0aW9uOiAnPGEgaHJlZj0iaHR0cHM6Ly9naXRodWIuY29tL2p3YXNzL21wbGxlYWZsZXQiPm1wbGxlYWZsZXQ8L2E+IHwgTWFwIGRhdGEgKGMpIDxhIGhyZWY9Imh0dHA6Ly9vcGVuc3RyZWV0bWFwLm9yZyI+T3BlblN0cmVldE1hcDwvYT4gY29udHJpYnV0b3JzJ30pLmFkZFRvKG1hcCk7CnZhciBnakRhdGEgPSB7InR5cGUiOiAiRmVhdHVyZUNvbGxlY3Rpb24iLCAiZmVhdHVyZXMiOiBbXX07CgppZiAoZ2pEYXRhLmZlYXR1cmVzLmxlbmd0aCAhPSAwKSB7CiAgdmFyIGdqID0gTC5nZW9Kc29uKGdqRGF0YSwgewogICAgc3R5bGU6IGZ1bmN0aW9uIChmZWF0dXJlKSB7CiAgICAgIHJldHVybiBmZWF0dXJlLnByb3BlcnRpZXM7CiAgICB9LAogICAgcG9pbnRUb0xheWVyOiBmdW5jdGlvbiAoZmVhdHVyZSwgbGF0bG5nKSB7CiAgICAgIHZhciBpY29uID0gTC5kaXZJY29uKHsnaHRtbCc6IGZlYXR1cmUucHJvcGVydGllcy5odG1sLCAKICAgICAgICBpY29uQW5jaG9yOiBbZmVhdHVyZS5wcm9wZXJ0aWVzLmFuY2hvcl94LCAKICAgICAgICAgICAgICAgICAgICAgZmVhdHVyZS5wcm9wZXJ0aWVzLmFuY2hvcl95XSwgCiAgICAgICAgICBjbGFzc05hbWU6ICdlbXB0eSd9KTsgIC8vIFdoYXQgY2FuIEkgZG8gYWJvdXQgZW1wdHk/CiAgICAgIHJldHVybiBMLm1hcmtlcihsYXRsbmcsIHtpY29uOiBpY29ufSk7CiAgICB9CiAgfSk7CiAgZ2ouYWRkVG8obWFwKTsKICAKICBtYXAuZml0Qm91bmRzKGdqLmdldEJvdW5kcygpKTsKfSBlbHNlIHsKICBtYXAuc2V0VmlldyhbMCwgMF0sIDEpOwp9Cjwvc2NyaXB0Pgo8L2JvZHk+\" width=\"100%\" height=\"480\"></iframe>"
      ],
      "text/plain": [
       "<IPython.core.display.HTML object>"
      ]
     },
     "execution_count": 24,
     "metadata": {},
     "output_type": "execute_result"
    }
   ],
   "source": [
    "#codigo de plot\n",
    "plt.figure(figsize=(8,8))\n",
    "\n",
    "\n",
    "\n",
    "#transforma o plot em localizações no mapa\n",
    "mplleaflet.display()"
   ]
  },
  {
   "cell_type": "code",
   "execution_count": null,
   "metadata": {},
   "outputs": [],
   "source": []
  }
 ],
 "metadata": {
  "kernelspec": {
   "display_name": "Python 3",
   "language": "python",
   "name": "python3"
  },
  "language_info": {
   "codemirror_mode": {
    "name": "ipython",
    "version": 3
   },
   "file_extension": ".py",
   "mimetype": "text/x-python",
   "name": "python",
   "nbconvert_exporter": "python",
   "pygments_lexer": "ipython3",
   "version": "3.6.5"
  }
 },
 "nbformat": 4,
 "nbformat_minor": 2
}
